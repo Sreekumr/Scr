{
 "cells": [
  {
   "cell_type": "markdown",
   "metadata": {
    "id": "kB6pb-k7JU9r"
   },
   "source": [
    "**1.1. Create a simple calculator in Python**"
   ]
  },
  {
   "cell_type": "code",
   "execution_count": 4,
   "metadata": {
    "colab": {
     "base_uri": "https://localhost:8080/"
    },
    "executionInfo": {
     "elapsed": 16489,
     "status": "ok",
     "timestamp": 1726814450385,
     "user": {
      "displayName": "Sreekesh K. Prabhu",
      "userId": "07456073506788017024"
     },
     "user_tz": -330
    },
    "id": "jzWYFHzeJalK",
    "outputId": "032cb8b1-a2d2-4291-c774-3732dce79ce6"
   },
   "outputs": [
    {
     "name": "stdout",
     "output_type": "stream",
     "text": [
      "Enter Number 1: 32\n",
      "Enter the Operator: +\n",
      "Enter Number 2: 58\n",
      "90\n"
     ]
    }
   ],
   "source": [
    "num1 = int(input(\"Enter Number 1: \"))\n",
    "operator = input(\"Enter the Operator: \")\n",
    "num2 = int(input(\"Enter Number 2: \"))\n",
    "if operator == '+': print(num1 + num2)\n",
    "elif operator == '-': print(num1 - num2)\n",
    "elif operator == '*': print(num1 * num2)\n",
    "elif operator == '/' and num2 != 0:\n",
    "               print(num1/num2)\n",
    "else: print(\"Error\")\n"
   ]
  },
  {
   "cell_type": "markdown",
   "metadata": {
    "id": "Nz9yyFSNKbZt"
   },
   "source": [
    "1.2 An electric power distribution company charges domestic customers as follows: Consumption unit Rate of charge:\n",
    "1.2.1. 0-200 Rs. 0.50 per unit\n",
    "- 201-400 Rs. 0.65 per unit in excess of 200\n",
    "- 401-600 Rs 0.80 per unit excess of 400\n",
    "-\t601 and above Rs 1.00per unit excess of 600\n",
    "-\tIf the bill exceeds Rs. 400, then a surcharge of 15% will be charged, and the minimum bill should be Rs. 100/-\n",
    "Create a Python program based on the scenario mentioned above.\n"
   ]
  },
  {
   "cell_type": "code",
   "execution_count": 5,
   "metadata": {
    "colab": {
     "base_uri": "https://localhost:8080/"
    },
    "executionInfo": {
     "elapsed": 13318,
     "status": "ok",
     "timestamp": 1726814711927,
     "user": {
      "displayName": "Sreekesh K. Prabhu",
      "userId": "07456073506788017024"
     },
     "user_tz": -330
    },
    "id": "AkGBafuHLGTY",
    "outputId": "3355e9c6-b953-474c-a03e-dc58d2c91074"
   },
   "outputs": [
    {
     "name": "stdout",
     "output_type": "stream",
     "text": [
      "enter the unit50\n",
      "bill is:100\n"
     ]
    }
   ],
   "source": [
    "charge=0\n",
    "unit=int(input(\"enter the unit\"))\n",
    "if unit <=200 :\n",
    "  charge=unit*0.50\n",
    "elif unit>200 and unit<=400: charge=(200*0.50)+((unit-200)*0.65)\n",
    "elif unit>400 and unit<=600:\n",
    "  sur_charge=((400*0.60)+((unit-400)*0.8))*1.5\n",
    "  charge+=sur_charge\n",
    "else:\n",
    "  sur_charge=((600*0.80)+((unit-600)*1))*1.5\n",
    "  charge+=sur_charge\n",
    "if charge<100:\n",
    "  print(\"bill is:100\")\n",
    "else:\n",
    "  print(\"bill is:\"+str(charge))\n"
   ]
  },
  {
   "cell_type": "markdown",
   "metadata": {
    "id": "1ZIsKwVBMsTt"
   },
   "source": [
    "1.3 Print the pyramid of numbers using for loops"
   ]
  },
  {
   "cell_type": "code",
   "execution_count": 6,
   "metadata": {
    "colab": {
     "base_uri": "https://localhost:8080/"
    },
    "executionInfo": {
     "elapsed": 658,
     "status": "ok",
     "timestamp": 1726815121953,
     "user": {
      "displayName": "Sreekesh K. Prabhu",
      "userId": "07456073506788017024"
     },
     "user_tz": -330
    },
    "id": "H-LJgtU4M4Qs",
    "outputId": "9ba5e07a-55e7-406b-a1b7-40637d94edd2"
   },
   "outputs": [
    {
     "name": "stdout",
     "output_type": "stream",
     "text": [
      "               *                 \n",
      "              ***                \n",
      "             *****               \n",
      "            *******              \n",
      "           *********             \n",
      "          ***********            \n",
      "         *************           \n",
      "        ***************          \n",
      "       *****************         \n",
      "      *******************        \n",
      "     *********************       \n",
      "    ***********************      \n",
      "   *************************     \n",
      "  ***************************    \n",
      " *****************************   \n",
      "*******************************  \n",
      "******************************** \n"
     ]
    }
   ],
   "source": [
    "startRange = 16\n",
    "endRange = 16\n",
    "\n",
    "for i in range(1, 18):\n",
    "    for j in range(1, 34):\n",
    "        if j in range(startRange, endRange + 1):\n",
    "            print(\"*\", end=\"\")\n",
    "        else:\n",
    "            print(\" \", end=\"\")\n",
    "\n",
    "    startRange -= 1\n",
    "    endRange += 1\n",
    "    print()\n"
   ]
  },
  {
   "cell_type": "markdown",
   "metadata": {
    "id": "ijXcQYkMODdj"
   },
   "source": [
    "1.4 Write a program to find the number and sum of all integers greater than 100 and less than 200 that are divisible by 7."
   ]
  },
  {
   "cell_type": "code",
   "execution_count": 8,
   "metadata": {
    "colab": {
     "base_uri": "https://localhost:8080/"
    },
    "executionInfo": {
     "elapsed": 601,
     "status": "ok",
     "timestamp": 1726815516695,
     "user": {
      "displayName": "Sreekesh K. Prabhu",
      "userId": "07456073506788017024"
     },
     "user_tz": -330
    },
    "id": "3aOz_zHuOC3n",
    "outputId": "172d72d4-4e23-4449-ae87-97ca6f23a1ab"
   },
   "outputs": [
    {
     "name": "stdout",
     "output_type": "stream",
     "text": [
      "sum=2107\n"
     ]
    }
   ],
   "source": [
    "sum=0\n",
    "count=0\n",
    "for num in range(100,200):\n",
    "  if num%7==0:\n",
    "    count+=1\n",
    "    sum+=num\n",
    "print(\"sum=\"+str(sum))"
   ]
  },
  {
   "cell_type": "markdown",
   "metadata": {
    "id": "5RXs7ttqOgiz"
   },
   "source": [
    "1.5 Write a recursive function to calculate the sum of numbers from 0 to 10"
   ]
  },
  {
   "cell_type": "code",
   "execution_count": 9,
   "metadata": {
    "colab": {
     "base_uri": "https://localhost:8080/"
    },
    "executionInfo": {
     "elapsed": 8402,
     "status": "ok",
     "timestamp": 1726815573650,
     "user": {
      "displayName": "Sreekesh K. Prabhu",
      "userId": "07456073506788017024"
     },
     "user_tz": -330
    },
    "id": "rshQg5SpOie9",
    "outputId": "d157cb57-528f-44c4-cd30-cb89d35e9635"
   },
   "outputs": [
    {
     "name": "stdout",
     "output_type": "stream",
     "text": [
      "Number: 10\n",
      "Sum: 55\n"
     ]
    }
   ],
   "source": [
    "def sum(number):\n",
    "    if number > 0:\n",
    "        return number + sum(number - 1)\n",
    "    return 0\n",
    "n = int(input(\"Number: \"))\n",
    "print(\"Sum:\", sum(n))\n"
   ]
  },
  {
   "cell_type": "markdown",
   "metadata": {
    "id": "9mVpw4h7OwAr"
   },
   "source": [
    "1.6 Write a Python program to reverse the digits of a given number and add them to the original. If the sum is not a palindrome, repeat this procedure."
   ]
  },
  {
   "cell_type": "code",
   "execution_count": 11,
   "metadata": {
    "colab": {
     "base_uri": "https://localhost:8080/"
    },
    "executionInfo": {
     "elapsed": 6618,
     "status": "ok",
     "timestamp": 1726815708784,
     "user": {
      "displayName": "Sreekesh K. Prabhu",
      "userId": "07456073506788017024"
     },
     "user_tz": -330
    },
    "id": "MyRJNzVvOzBe",
    "outputId": "df6a08f9-052e-42fe-d6f7-7d5d5996638a"
   },
   "outputs": [
    {
     "name": "stdout",
     "output_type": "stream",
     "text": [
      "Enter Number: 321\n",
      "444\n"
     ]
    }
   ],
   "source": [
    "def reverseNum(num):\n",
    "    rev = 0\n",
    "    while num > 0:\n",
    "                   rev *= 10\n",
    "                   rev += (num % 10)\n",
    "                   num = num // 10\n",
    "    return rev\n",
    "def isPalindrome(number):\n",
    "         isPal = True\n",
    "         if number != reverseNum(number):\n",
    "                isPal = False\n",
    "         return isPal\n",
    "\n",
    "n = int(input(\"Enter Number: \"))\n",
    "n += reverseNum(n)\n",
    "while(not isPalindrome(n)):\n",
    " n += reverseNum(n)\n",
    "print(n)\n"
   ]
  },
  {
   "cell_type": "markdown",
   "metadata": {
    "id": "WDqhPjYAPP6i"
   },
   "source": [
    "1.7 Write a menu-driven program that performs the following operations on\n",
    "strings\n",
    "-\tCheck if the String is a Substring of Another String\n",
    "-\tCount Occurrences of Character\n",
    "-\tReplace a substring with another substring\n",
    "-\tConvert to Capital Letters\n"
   ]
  },
  {
   "cell_type": "code",
   "execution_count": 12,
   "metadata": {
    "colab": {
     "base_uri": "https://localhost:8080/"
    },
    "executionInfo": {
     "elapsed": 64222,
     "status": "ok",
     "timestamp": 1726815842330,
     "user": {
      "displayName": "Sreekesh K. Prabhu",
      "userId": "07456073506788017024"
     },
     "user_tz": -330
    },
    "id": "YslXZDENPVsR",
    "outputId": "ad47a59a-1b44-48dc-c250-1b61db6970d1"
   },
   "outputs": [
    {
     "name": "stdout",
     "output_type": "stream",
     "text": [
      "1. Check if the String is a Substring of Another String\n",
      "2. Count Occurrences of Character\n",
      "3. Replace a Substring with Another Substring\n",
      "4. Convert to Capital Letters\n",
      "5. Exit\n",
      "Enter Your Choice: 1\n",
      "Enter String 1: hello\n",
      "Enter String 2: ell\n",
      "ell is a substring of hello\n",
      "Press Enter to continue...\n",
      "1. Check if the String is a Substring of Another String\n",
      "2. Count Occurrences of Character\n",
      "3. Replace a Substring with Another Substring\n",
      "4. Convert to Capital Letters\n",
      "5. Exit\n",
      "Enter Your Choice: 4\n",
      "Enter a String: world\n",
      "WORLD\n",
      "Press Enter to continue...\n",
      "1. Check if the String is a Substring of Another String\n",
      "2. Count Occurrences of Character\n",
      "3. Replace a Substring with Another Substring\n",
      "4. Convert to Capital Letters\n",
      "5. Exit\n",
      "Enter Your Choice: 5\n"
     ]
    }
   ],
   "source": [
    "import os\n",
    "\n",
    "def checkSubstring():\n",
    "    str1 = input(\"Enter String 1: \")\n",
    "    str2 = input(\"Enter String 2: \")\n",
    "    if str2 in str1:\n",
    "        print(str2, \"is a substring of\", str1)\n",
    "    else:\n",
    "        print(str2, \"is not a substring of\", str1)\n",
    "    input(\"Press Enter to continue...\")\n",
    "\n",
    "def countOccurrence():\n",
    "    str_input = input(\"Enter a String: \")\n",
    "    ch = input(\"Enter Character to check: \")\n",
    "    count = str_input.count(ch)\n",
    "    print(ch, \"found\", count, \"times in\", str_input)\n",
    "    input(\"Press Enter to continue...\")\n",
    "\n",
    "def replaceSubstring():\n",
    "    str1 = input(\"Enter String 1: \")\n",
    "    str2 = input(\"Enter Substring: \")\n",
    "    str3 = input(\"Enter Substring replacement: \")\n",
    "    if str2 in str1:\n",
    "        str1 = str1.replace(str2, str3)\n",
    "        print(\"Updated String:\", str1)\n",
    "    else:\n",
    "        print(str2, \"not found in\", str1)\n",
    "    input(\"Press Enter to continue...\")\n",
    "\n",
    "def toCapital():\n",
    "    str_input = input(\"Enter a String: \")\n",
    "    print(str_input.upper())\n",
    "    input(\"Press Enter to continue...\")\n",
    "\n",
    "def initMenu():\n",
    "    choice = 0\n",
    "    while choice != 5:\n",
    "        os.system('cls' if os.name == 'nt' else 'clear')\n",
    "        print(\"1. Check if the String is a Substring of Another String\")\n",
    "        print(\"2. Count Occurrences of Character\")\n",
    "        print(\"3. Replace a Substring with Another Substring\")\n",
    "        print(\"4. Convert to Capital Letters\")\n",
    "        print(\"5. Exit\")\n",
    "\n",
    "        choice = int(input(\"Enter Your Choice: \"))\n",
    "        if choice in range(1, 6):\n",
    "            if choice == 1:\n",
    "                checkSubstring()\n",
    "            elif choice == 2:\n",
    "                countOccurrence()\n",
    "            elif choice == 3:\n",
    "                replaceSubstring()\n",
    "            elif choice == 4:\n",
    "                toCapital()\n",
    "        else:\n",
    "            print(\"Enter a Valid Choice\")\n",
    "            input(\"Press Enter to continue...\")\n",
    "\n",
    "initMenu()"
   ]
  },
  {
   "cell_type": "markdown",
   "metadata": {
    "id": "btjwwArxP8pj"
   },
   "source": [
    "1.8 Write a function to find the factorial of a number but also store the factorials calculated in a dictionary."
   ]
  },
  {
   "cell_type": "code",
   "execution_count": 13,
   "metadata": {
    "colab": {
     "base_uri": "https://localhost:8080/"
    },
    "executionInfo": {
     "elapsed": 609,
     "status": "ok",
     "timestamp": 1726815952441,
     "user": {
      "displayName": "Sreekesh K. Prabhu",
      "userId": "07456073506788017024"
     },
     "user_tz": -330
    },
    "id": "LCKGRdxvP_MU",
    "outputId": "16ffae77-eb6d-492a-fe0e-d224fee6df7d"
   },
   "outputs": [
    {
     "name": "stdout",
     "output_type": "stream",
     "text": [
      "The factorial of 5 is 120\n",
      "Memoized factorials: {2: 2, 3: 6, 4: 24, 5: 120}\n"
     ]
    }
   ],
   "source": [
    "def factorial(n, memo={}):\n",
    "    if n < 0:\n",
    "        raise ValueError(\"Factorial is not defined for negative numbers.\")\n",
    "    if n == 0 or n == 1:\n",
    "        return 1\n",
    "    if n in memo:\n",
    "        return memo[n]\n",
    "    else:\n",
    "        result = n * factorial(n - 1, memo)\n",
    "        memo[n] = result\n",
    "        return result\n",
    "\n",
    "num = 5\n",
    "print(f\"The factorial of {num} is {factorial(num)}\")\n",
    "print(f\"Memoized factorials: {factorial.__defaults__[0]}\")\n"
   ]
  },
  {
   "cell_type": "markdown",
   "metadata": {
    "id": "WL6NBCypQQdI"
   },
   "source": [
    "1.9 Perform various set operations\n",
    "- 1.9.1 Set Union\n",
    "- 1.9.2 Set Intersection\n",
    "- 1.9.3 Set Difference\n"
   ]
  },
  {
   "cell_type": "code",
   "execution_count": 14,
   "metadata": {
    "colab": {
     "base_uri": "https://localhost:8080/"
    },
    "executionInfo": {
     "elapsed": 559,
     "status": "ok",
     "timestamp": 1726816035736,
     "user": {
      "displayName": "Sreekesh K. Prabhu",
      "userId": "07456073506788017024"
     },
     "user_tz": -330
    },
    "id": "YLF3Q8PEQXo7",
    "outputId": "71df371a-a64d-4957-8060-43ac26dcdfb9"
   },
   "outputs": [
    {
     "name": "stdout",
     "output_type": "stream",
     "text": [
      "Union using union() method: {1, 2, 3, 4, 5, 6}\n",
      "Union using | operator: {1, 2, 3, 4, 5, 6}\n",
      "Intersection using intersection() method: {3, 4}\n",
      "Intersection using & operator: {3, 4}\n",
      "Difference using difference() method (set1 - set2): {1, 2}\n",
      "Difference using - operator (set1 - set2): {1, 2}\n"
     ]
    }
   ],
   "source": [
    "set1 = {1, 2, 3, 4}\n",
    "set2= {3, 4, 5, 6}\n",
    "union_set = set1.union(set2)\n",
    "print(\"Union using union() method:\", union_set)\n",
    "union_set_operator = set1 | set2\n",
    "print(\"Union using | operator:\", union_set_operator)\n",
    "intersection_set = set1.intersection(set2)\n",
    "print(\"Intersection using intersection() method:\",intersection_set)\n",
    "intersection_set_operator = set1 & set2\n",
    "print(\"Intersection using & operator:\", intersection_set_operator)\n",
    "difference_set = set1.difference(set2)\n",
    "print(\"Difference using difference() method (set1 - set2):\", difference_set)\n",
    "difference_set_operator = set1 - set2\n",
    "print(\"Difference using - operator (set1 - set2):\", difference_set_operator)\n"
   ]
  },
  {
   "cell_type": "markdown",
   "metadata": {
    "id": "vwuLW83SQeGC"
   },
   "source": [
    "1.10 Create a dictionary to store the name, roll_no, and total_mark of N students. Now print the details of the student with the highest total_mark."
   ]
  },
  {
   "cell_type": "code",
   "execution_count": 15,
   "metadata": {
    "colab": {
     "base_uri": "https://localhost:8080/"
    },
    "executionInfo": {
     "elapsed": 559,
     "status": "ok",
     "timestamp": 1726816179103,
     "user": {
      "displayName": "Sreekesh K. Prabhu",
      "userId": "07456073506788017024"
     },
     "user_tz": -330
    },
    "id": "K7fkzueUQgvJ",
    "outputId": "c170606a-64c4-4fbf-f21b-729764ba2b88"
   },
   "outputs": [
    {
     "name": "stdout",
     "output_type": "stream",
     "text": [
      "Details of the student with the highest total_mark:\n",
      "Name: David\n",
      "Roll No: 104\n",
      "Total Marks: 95\n"
     ]
    }
   ],
   "source": [
    "students = [\n",
    "{\"name\": \"Alice\", \"roll_no\": 101, \"total_mark\": 85},\n",
    "{\"name\": \"Bob\", \"roll_no\": 102, \"total_mark\": 92},\n",
    "{\"name\": \"Charlie\", \"roll_no\": 103, \"total_mark\": 78},\n",
    "{\"name\": \"David\", \"roll_no\": 104, \"total_mark\": 95},\n",
    "{\"name\": \"Eve\", \"roll_no\": 105, \"total_mark\": 88}\n",
    "]\n",
    "highest_mark_student = max(students, key=lambda student: student[\"total_mark\"])\n",
    "print(\"Details of the student with the highest total_mark:\")\n",
    "print(f\"Name: {highest_mark_student['name']}\")\n",
    "print(f\"Roll No: {highest_mark_student['roll_no']}\")\n",
    "print(f\"Total Marks: {highest_mark_student['total_mark']}\")\n"
   ]
  },
  {
   "cell_type": "markdown",
   "metadata": {
    "id": "O_HpTHSFREIg"
   },
   "source": [
    "1.11 Write a Python program to copy the contents of a file into another file, line by line.\n"
   ]
  },
  {
   "cell_type": "code",
   "execution_count": 17,
   "metadata": {
    "colab": {
     "base_uri": "https://localhost:8080/"
    },
    "executionInfo": {
     "elapsed": 7,
     "status": "ok",
     "timestamp": 1726816296107,
     "user": {
      "displayName": "Sreekesh K. Prabhu",
      "userId": "07456073506788017024"
     },
     "user_tz": -330
    },
    "id": "qSnEVb3CRKTj",
    "outputId": "b1e57a14-2d9b-4f73-f5e6-54f5c14dcaaa"
   },
   "outputs": [
    {
     "name": "stdout",
     "output_type": "stream",
     "text": [
      "Contents of 'source.txt' copied to 'destination.txt' successfully.\n"
     ]
    }
   ],
   "source": [
    "def copy_file(source_file, destination_file):\n",
    "    try:\n",
    "        with open(source_file, 'r') as src:\n",
    "            with open(destination_file, 'w') as dest:\n",
    "                for line in src:\n",
    "                    dest.write(line)\n",
    "        print(f\"Contents of '{source_file}' copied to '{destination_file}' successfully.\")\n",
    "    except IOError as e:\n",
    "        print(f\"Error copying file: {e}\")\n",
    "\n",
    "source_file = 'source.txt'\n",
    "destination_file = 'destination.txt'\n",
    "copy_file(source_file, destination_file)"
   ]
  },
  {
   "cell_type": "markdown",
   "metadata": {
    "id": "KVBUbPkhRmJe"
   },
   "source": [
    "1.12 Use the OS module to perform\n",
    "- Create a directory\n",
    "- Directory Listing\n",
    "-\tSearch for “.py” files\n",
    "-\tRemove a particular file\n"
   ]
  },
  {
   "cell_type": "code",
   "execution_count": 18,
   "metadata": {
    "colab": {
     "base_uri": "https://localhost:8080/"
    },
    "executionInfo": {
     "elapsed": 588,
     "status": "ok",
     "timestamp": 1726816408007,
     "user": {
      "displayName": "Sreekesh K. Prabhu",
      "userId": "07456073506788017024"
     },
     "user_tz": -330
    },
    "id": "2sGw_ibkRp04",
    "outputId": "ae67fdc7-40f5-461d-8e1d-72d301e3941a"
   },
   "outputs": [
    {
     "name": "stdout",
     "output_type": "stream",
     "text": [
      "Directory 'test_directory' created successfully.\n",
      "Listing of directory 'test_directory':\n",
      "Searching for files with extension '.py' in directory 'test_directory':\n",
      "File 'test_directory/file_to_remove.txt' created successfully.\n",
      "File 'test_directory/file_to_remove.txt' removed successfully.\n"
     ]
    }
   ],
   "source": [
    "import os\n",
    "\n",
    "def create_directory(directory):\n",
    "    try:\n",
    "        if not os.path.exists(directory):\n",
    "            os.makedirs(directory)\n",
    "            print(f\"Directory '{directory}' created successfully.\")\n",
    "        else:\n",
    "            print(f\"Directory '{directory}' already exists.\")\n",
    "    except OSError as e:\n",
    "        print(f\"Error creating directory '{directory}': {e}\")\n",
    "\n",
    "def list_directory(directory):\n",
    "    try:\n",
    "        files = os.listdir(directory)\n",
    "        print(f\"Listing of directory '{directory}':\")\n",
    "        for file in files:\n",
    "            print(file)\n",
    "    except OSError as e:\n",
    "        print(f\"Error listing directory '{directory}': {e}\")\n",
    "\n",
    "def search_files(directory, extension):\n",
    "    try:\n",
    "        print(f\"Searching for files with extension '{extension}' in directory '{directory}':\")\n",
    "        for root, _, files in os.walk(directory):\n",
    "            for file in files:\n",
    "                if file.endswith(extension):\n",
    "                    print(os.path.join(root, file))\n",
    "    except OSError as e:\n",
    "        print(f\"Error searching files in directory '{directory}': {e}\")\n",
    "\n",
    "def remove_file(file_path):\n",
    "    try:\n",
    "        os.remove(file_path)\n",
    "        print(f\"File '{file_path}' removed successfully.\")\n",
    "    except OSError as e:\n",
    "        print(f\"Error removing file '{file_path}': {e}\")\n",
    "\n",
    "def create_test_file(file_path):\n",
    "    try:\n",
    "        with open(file_path, 'w') as f:\n",
    "            f.write(\"This is a test file to be removed.\\n\")\n",
    "        print(f\"File '{file_path}' created successfully.\")\n",
    "    except OSError as e:\n",
    "        print(f\"Error creating file '{file_path}': {e}\")\n",
    "\n",
    "directory_name = \"test_directory\"\n",
    "file_extension = \".py\"\n",
    "file_to_remove = \"test_directory/file_to_remove.txt\"\n",
    "\n",
    "create_directory(directory_name)\n",
    "list_directory(directory_name)\n",
    "search_files(directory_name, file_extension)\n",
    "\n",
    "create_test_file(file_to_remove)\n",
    "\n",
    "if os.path.exists(file_to_remove):\n",
    "    remove_file(file_to_remove)\n",
    "else:\n",
    "    print(f\"File '{file_to_remove}' does not exist, so it cannot be removed.\")\n"
   ]
  },
  {
   "cell_type": "markdown",
   "metadata": {
    "id": "iQeFG6yHR4w9"
   },
   "source": [
    "1.13 Create a simple banking application by using inheritance."
   ]
  },
  {
   "cell_type": "code",
   "execution_count": 19,
   "metadata": {
    "colab": {
     "base_uri": "https://localhost:8080/"
    },
    "executionInfo": {
     "elapsed": 617,
     "status": "ok",
     "timestamp": 1726816492619,
     "user": {
      "displayName": "Sreekesh K. Prabhu",
      "userId": "07456073506788017024"
     },
     "user_tz": -330
    },
    "id": "pMBOvYU3SDll",
    "outputId": "cd77533d-0ec0-451e-b0ed-817a60bdfe57"
   },
   "outputs": [
    {
     "name": "stdout",
     "output_type": "stream",
     "text": [
      "Account Number: SAV123\n",
      "Current Balance: $1000\n",
      "Deposited $500. New balance is $1500.\n",
      "Interest added. New balance is $1530.0.\n",
      "Withdrew $200. New balance is $1330.0.\n",
      "\n",
      "Account Number: CHK456\n",
      "Current Balance: $500\n",
      "Deposited $300. New balance is $800.\n",
      "Deducted transaction fee of $1. New balance is $799.\n",
      "Withdrew $100. New balance is $699.\n"
     ]
    }
   ],
   "source": [
    "class Account:\n",
    "    def __init__(self, account_number, balance=0):\n",
    "        self.account_number = account_number\n",
    "        self.balance = balance\n",
    "\n",
    "    def deposit(self, amount):\n",
    "        self.balance += amount\n",
    "        print(f\"Deposited ${amount}. New balance is ${self.balance}.\")\n",
    "\n",
    "    def withdraw(self, amount):\n",
    "        if self.balance >= amount:\n",
    "            self.balance -= amount\n",
    "            print(f\"Withdrew ${amount}. New balance is ${self.balance}.\")\n",
    "        else:\n",
    "            print(\"Insufficient funds.\")\n",
    "\n",
    "    def display_balance(self):\n",
    "        print(f\"Account Number: {self.account_number}\")\n",
    "        print(f\"Current Balance: ${self.balance}\")\n",
    "\n",
    "\n",
    "class SavingsAccount(Account):\n",
    "    def __init__(self, account_number, balance=0, interest_rate=0.01):\n",
    "        super().__init__(account_number, balance)\n",
    "        self.interest_rate = interest_rate\n",
    "\n",
    "    def add_interest(self):\n",
    "        interest = self.balance * self.interest_rate\n",
    "        self.balance += interest\n",
    "        print(f\"Interest added. New balance is ${self.balance}.\")\n",
    "\n",
    "\n",
    "class CheckingAccount(Account):\n",
    "    def __init__(self, account_number, balance=0, transaction_fee=1):\n",
    "        super().__init__(account_number, balance)\n",
    "        self.transaction_fee = transaction_fee\n",
    "\n",
    "    def deduct_transaction_fee(self):\n",
    "        self.balance -= self.transaction_fee\n",
    "        print(f\"Deducted transaction fee of ${self.transaction_fee}. New balance is ${self.balance}.\")\n",
    "\n",
    "\n",
    "\n",
    "savings_acc = SavingsAccount(\"SAV123\", 1000, 0.02)\n",
    "checking_acc = CheckingAccount(\"CHK456\", 500)\n",
    "\n",
    "savings_acc.display_balance()\n",
    "savings_acc.deposit(500)\n",
    "savings_acc.add_interest()\n",
    "savings_acc.withdraw(200)\n",
    "\n",
    "print()\n",
    "\n",
    "checking_acc.display_balance()\n",
    "checking_acc.deposit(300)\n",
    "checking_acc.deduct_transaction_fee()\n",
    "checking_acc.withdraw(100)\n"
   ]
  }
 ],
 "metadata": {
  "colab": {
   "authorship_tag": "ABX9TyPbCh7rDRqS4eSIUYMMMujr",
   "provenance": []
  },
  "kernelspec": {
   "display_name": "Python 3 (ipykernel)",
   "language": "python",
   "name": "python3"
  },
  "language_info": {
   "codemirror_mode": {
    "name": "ipython",
    "version": 3
   },
   "file_extension": ".py",
   "mimetype": "text/x-python",
   "name": "python",
   "nbconvert_exporter": "python",
   "pygments_lexer": "ipython3",
   "version": "3.12.3"
  }
 },
 "nbformat": 4,
 "nbformat_minor": 4
}
