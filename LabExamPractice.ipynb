{
 "cells": [
  {
   "cell_type": "markdown",
   "id": "41ced4d5-2db2-4961-a5d3-0665d3e2b531",
   "metadata": {},
   "source": [
    "5. Data Analytics using Python"
   ]
  },
  {
   "cell_type": "markdown",
   "id": "35502247-76e6-44be-9bdd-e7ce1a6f20bf",
   "metadata": {},
   "source": [
    "5.1. Handle the given dataset (Data.csv) with adequate preprocessing steps\n",
    "mentioned and visualize the dataset with appropriate graphs.\n",
    "    5.1.1. Handle Missing Data Values\n",
    "    5.1.2. Encode the categorical data\n",
    "    5.1.3. Scale your features"
   ]
  },
  {
   "cell_type": "markdown",
   "id": "431fc380-0d24-468b-9686-2577803ad5fd",
   "metadata": {},
   "source": [
    "Step 1 :Import "
   ]
  },
  {
   "cell_type": "code",
   "execution_count": 31,
   "id": "81a9518a-0dc8-4d5d-b2a7-d8fdf1e2e1df",
   "metadata": {},
   "outputs": [],
   "source": [
    "import pandas as pd\n",
    "import numpy as np\n",
    "import matplotlib.pyplot as plt\n",
    "from sklearn.preprocessing import LabelEncoder, StandardScaler\n",
    "import seaborn as sns"
   ]
  },
  {
   "cell_type": "markdown",
   "id": "43a629ff-6019-4b51-b031-e7ff490fab02",
   "metadata": {},
   "source": [
    "Step 2 : Load the dataset"
   ]
  },
  {
   "cell_type": "code",
   "execution_count": 27,
   "id": "260dcb4a-1bdc-4502-a901-990b15f72674",
   "metadata": {},
   "outputs": [
    {
     "name": "stdout",
     "output_type": "stream",
     "text": [
      "     Country   Age   Salary Purchased\n",
      "0      India  34.0  92000.0       Yes\n",
      "1  Sri lanka  22.0  25000.0       Yes\n",
      "2      China  31.0  74000.0       Yes\n",
      "3  Sri lanka  29.0      NaN        No\n",
      "4      China  55.0  98000.0       Yes\n"
     ]
    }
   ],
   "source": [
    "data = pd.read_csv('Data.csv')\n",
    "print(data.head())"
   ]
  },
  {
   "cell_type": "markdown",
   "id": "0f965dd3-ae41-4e71-8b06-f6d11bd3200b",
   "metadata": {},
   "source": [
    "Step 3 : Handle Missing data"
   ]
  },
  {
   "cell_type": "code",
   "execution_count": 28,
   "id": "eccad8a4-9127-4785-bbae-2f274b7c54f8",
   "metadata": {},
   "outputs": [
    {
     "name": "stdout",
     "output_type": "stream",
     "text": [
      "Country      0\n",
      "Age          1\n",
      "Salary       1\n",
      "Purchased    0\n",
      "dtype: int64\n",
      "\n",
      "Dataset after Handling missing values : \n",
      "       Country        Age        Salary Purchased\n",
      "0       India  34.000000  92000.000000       Yes\n",
      "1   Sri lanka  22.000000  25000.000000       Yes\n",
      "2       China  31.000000  74000.000000       Yes\n",
      "3   Sri lanka  29.000000  54857.142857        No\n",
      "4       China  55.000000  98000.000000       Yes\n",
      "5       India  24.000000  30000.000000        No\n",
      "6   Sri lanka  28.000000  40000.000000        No\n",
      "7       India  33.714286  60000.000000        No\n",
      "8       China  51.000000  89000.000000       Yes\n",
      "9       India  44.000000  78000.000000       Yes\n",
      "10  Sri lanka  21.000000  20000.000000        No\n",
      "11      China  25.000000  30000.000000       Yes\n",
      "12      India  33.000000  45000.000000       Yes\n",
      "13      India  42.000000  65000.000000       Yes\n",
      "14  Sri lanka  33.000000  22000.000000        No\n",
      "Country      0\n",
      "Age          0\n",
      "Salary       0\n",
      "Purchased    0\n",
      "dtype: int64\n"
     ]
    }
   ],
   "source": [
    "#Check for Missig values \n",
    "print(data.isnull().sum())\n",
    "\n",
    "#Age and Salary has missing values\n",
    "data['Age']=data['Age'].fillna(data['Age'].mean())\n",
    "data['Salary'] = data['Salary'].fillna(data['Salary'].mean())\n",
    "\n",
    "print(\"\\nDataset after Handling missing values : \\n\",data)\n",
    "\n",
    "#Verify Missing values\n",
    "print(data.isnull().sum())"
   ]
  },
  {
   "cell_type": "markdown",
   "id": "f98d9650-75e8-442f-84db-8cf9024fed88",
   "metadata": {},
   "source": [
    "Step 4 : Encode Categorical Data"
   ]
  },
  {
   "cell_type": "code",
   "execution_count": 29,
   "id": "69e474c9-1dcd-455d-a245-5bfc42a33d83",
   "metadata": {},
   "outputs": [
    {
     "name": "stdout",
     "output_type": "stream",
     "text": [
      "\n",
      "Dataset after encoding categorical variables:\n",
      "           Age        Salary  Purchased  Country_India  Country_Sri lanka\n",
      "0   34.000000  92000.000000          1           True              False\n",
      "1   22.000000  25000.000000          1          False               True\n",
      "2   31.000000  74000.000000          1          False              False\n",
      "3   29.000000  54857.142857          0          False               True\n",
      "4   55.000000  98000.000000          1          False              False\n",
      "5   24.000000  30000.000000          0           True              False\n",
      "6   28.000000  40000.000000          0          False               True\n",
      "7   33.714286  60000.000000          0           True              False\n",
      "8   51.000000  89000.000000          1          False              False\n",
      "9   44.000000  78000.000000          1           True              False\n",
      "10  21.000000  20000.000000          0          False               True\n",
      "11  25.000000  30000.000000          1          False              False\n",
      "12  33.000000  45000.000000          1           True              False\n",
      "13  42.000000  65000.000000          1           True              False\n",
      "14  33.000000  22000.000000          0          False               True\n"
     ]
    }
   ],
   "source": [
    "#Use LabelEncoder for Single categorical column\n",
    "label_encoder = LabelEncoder()\n",
    "\n",
    "#Encoding \"Purchased\" (Yes/No) into (1/0)\n",
    "data['Purchased'] = label_encoder.fit_transform(data['Purchased'])\n",
    "\n",
    "#Encoding \"Country\" using OneHotEncoding(Creates seperate columns for each category)\n",
    "data = pd.get_dummies(data,columns = ['Country'],drop_first = True) # drop_first to avoid dummy variable trap\n",
    "\n",
    "print(\"\\nDataset after encoding categorical variables:\\n\",data)"
   ]
  },
  {
   "cell_type": "markdown",
   "id": "e243f0e7-9141-4a79-bcb0-a38f072c0ffc",
   "metadata": {},
   "source": [
    "Step 5 : Scale Your features"
   ]
  },
  {
   "cell_type": "code",
   "execution_count": 30,
   "id": "74d25c73-97a2-472b-9e3b-9aa0f6bea8ca",
   "metadata": {},
   "outputs": [
    {
     "name": "stdout",
     "output_type": "stream",
     "text": [
      "\n",
      "Dataset After Scaling features : \n",
      "          Age    Salary  Purchased  Country_India  Country_Sri lanka\n",
      "0   0.028972  1.425922          1           True              False\n",
      "1  -1.187832 -1.146222          1          False               True\n",
      "2  -0.275229  0.734898          1          False              False\n",
      "3  -0.478030  0.000000          0          False               True\n",
      "4   2.158378  1.656263          1          False              False\n",
      "5  -0.985032 -0.954271          0           True              False\n",
      "6  -0.579430 -0.570369          0          False               True\n",
      "7   0.000000  0.197435          0           True              False\n",
      "8   1.752777  1.310751          1          False              False\n",
      "9   1.042975  0.888459          1           True              False\n",
      "10 -1.289232 -1.338173          0          False               True\n",
      "11 -0.883631 -0.954271          1          False              False\n",
      "12 -0.072429 -0.378418          1           True              False\n",
      "13  0.840174  0.389386          1           True              False\n",
      "14 -0.072429 -1.261393          0          False               True\n"
     ]
    }
   ],
   "source": [
    "#Initialize StandardScaler()\n",
    "scaler = StandardScaler()\n",
    "\n",
    "#Select numerical columns to scale - Age and Salary\n",
    "numerical_cols = ['Age','Salary']\n",
    "\n",
    "#Apply Scaling\n",
    "data[numerical_cols] = scaler.fit_transform(data[numerical_cols])\n",
    "\n",
    "print(\"\\nDataset After Scaling features : \\n\",data)\n"
   ]
  },
  {
   "cell_type": "markdown",
   "id": "8c9e3e44-87e2-4956-83fe-2e7d75533484",
   "metadata": {},
   "source": [
    "Step 6: Visualization"
   ]
  },
  {
   "cell_type": "code",
   "execution_count": 41,
   "id": "dcc122bb-b968-42df-80fa-7758f64a1f7c",
   "metadata": {},
   "outputs": [
    {
     "data": {
      "image/png": "[encoded data removed]",
      "text/plain": [
       "<Figure size 640x480 with 1 Axes>"
      ]
     },
     "metadata": {},
     "output_type": "display_data"
    }
   ],
   "source": [
    "plt.hist(data['Age'],bins = 10 , color = 'blue' , edgecolor = 'black')\n",
    "plt.title('Histogram of Age')\n",
    "plt.xlabel('Values')\n",
    "plt.ylabel('Frequency')\n",
    "plt.show();"
   ]
  },
  {
   "cell_type": "code",
   "execution_count": 38,
   "id": "2840c0af-5545-457a-912b-d43beec8fa85",
   "metadata": {},
   "outputs": [
    {
     "data": {
      "image/png": "[encoded data removed]",
      "text/plain": [
       "<Figure size 640x480 with 1 Axes>"
      ]
     },
     "metadata": {},
     "output_type": "display_data"
    }
   ],
   "source": [
    "plt.scatter(data['Purchased'],data['Salary'],color='blue',edgecolor='red)\n",
    "plt.title('Scatter Plot between Purchased and Salary')\n",
    "plt.xlabel('Purchased')\n",
    "plt.ylabel('Salary')\n",
    "plt.show()"
   ]
  },
  {
   "cell_type": "code",
   "execution_count": null,
   "id": "3ffb3b1b-a53d-4f78-a6e0-e86781dd1adf",
   "metadata": {},
   "outputs": [],
   "source": [
    "plt.figure(figsize=(6, 3))\n",
    "sns.histplot(data['Age'], kde=True)\n",
    "plt.title('Age Distribution')\n",
    "plt.show()"
   ]
  },
  {
   "cell_type": "code",
   "execution_count": null,
   "id": "4605ebe6-b25c-44e8-9cb1-a20438cc4e4f",
   "metadata": {},
   "outputs": [],
   "source": [
    "plt.figure(figsize=(8,4))\n",
    "sns.countplot(x='Purchased',data=data)\n",
    "plt.title('Count of Purchases (Yes/No)')\n",
    "plt.show()"
   ]
  },
  {
   "cell_type": "code",
   "execution_count": null,
   "id": "98c19572-9cce-4cf2-b0cc-eedf7a1e05ea",
   "metadata": {},
   "outputs": [],
   "source": [
    "plt.figure(figsize=(8, 4))\n",
    "sns.barplot(x='Purchased', y='Salary', hue='Country_India', data=data)\n",
    "plt.title('Country-wise Salary of Purchasers')\n",
    "plt.show()"
   ]
  },
  {
   "cell_type": "markdown",
   "id": "1250712c-e10b-44e2-9e11-97e3d95f5d37",
   "metadata": {},
   "source": [
    "5.2. Using the given dataset (dirtydata.csv),\n",
    "    5.2.1. Handle the data with empty cells (Use dropna() and fillna())\n",
    "    5.2.2. Replace the empty cells using mean, median, and mode.\n",
    "    5.2.3. Handle the data in the wrong format.\n",
    "    5.2.4. Handle the wrong data from the dataset.\n",
    "    5.2.5. Discover and remove duplicates"
   ]
  },
  {
   "cell_type": "code",
   "execution_count": 86,
   "id": "0f6cc819-8d43-4398-b22d-ca87d8b23c05",
   "metadata": {},
   "outputs": [],
   "source": [
    "#Step 1 :Import \n",
    "import pandas as pd\n",
    "import numpy as np\n"
   ]
  },
  {
   "cell_type": "code",
   "execution_count": 116,
   "id": "5da80a52-0828-4eca-a638-73492933e045",
   "metadata": {},
   "outputs": [
    {
     "name": "stdout",
     "output_type": "stream",
     "text": [
      "    Duration          Date  Pulse  Maxpulse  Calories\n",
      "0         60  '2020/12/01'    110       130     409.1\n",
      "1         60  '2020/12/02'    117       145     479.0\n",
      "2         60  '2020/12/03'    103       135     340.0\n",
      "3         45  '2020/12/04'    109       175     282.4\n",
      "4         45  '2020/12/05'    117       148     406.0\n",
      "5         60  '2020/12/06'    102       127     300.0\n",
      "6         60  '2020/12/07'    110       136     374.0\n",
      "7        450  '2020/12/08'    104       134     253.3\n",
      "8         30  '2020/12/09'    109       133     195.1\n",
      "9         60  '2020/12/10'     98       124     269.0\n",
      "10        60  '2020/12/11'    103       147     329.3\n",
      "11        60  '2020/12/12'    100       120     250.7\n",
      "12        60  '2020/12/12'    100       120     250.7\n",
      "13        60  '2020/12/13'    106       128     345.3\n",
      "14        60  '2020/12/14'    104       132     379.3\n",
      "15        60  '2020/12/15'     98       123     275.0\n",
      "16        60  '2020/12/16'     98       120     215.2\n",
      "17        60  '2020/12/17'    100       120     300.0\n",
      "18        45  '2020/12/18'     90       112       NaN\n",
      "19        60  '2020/12/19'    103       123     323.0\n",
      "20        45  '2020/12/20'     97       125     243.0\n",
      "21        60  '2020/12/21'    108       131     364.2\n",
      "22        45           NaN    100       119     282.0\n",
      "23        60  '2020/12/23'    130       101     300.0\n",
      "24        45  '2020/12/24'    105       132     246.0\n",
      "25        60  '2020/12/25'    102       126     334.5\n",
      "26        60      20201226    100       120     250.0\n",
      "27        60  '2020/12/27'     92       118     241.0\n",
      "28        60  '2020/12/28'    103       132       NaN\n",
      "29        60  '2020/12/29'    100       132     280.0\n",
      "30        60  '2020/12/30'    102       129     380.3\n",
      "31        60  '2020/12/31'     92       115     243.0\n"
     ]
    }
   ],
   "source": [
    "#Step 2 : Load data\n",
    "data = pd.read_csv('dirtydata.csv')\n",
    "print(data)"
   ]
  },
  {
   "cell_type": "code",
   "execution_count": 117,
   "id": "03e38b08-9bba-4701-a862-682b88e2d161",
   "metadata": {},
   "outputs": [
    {
     "name": "stdout",
     "output_type": "stream",
     "text": [
      "\n",
      "Dataset after dropping rows with missing values :\n",
      "     Duration          Date  Pulse  Maxpulse  Calories\n",
      "0         60  '2020/12/01'    110       130     409.1\n",
      "1         60  '2020/12/02'    117       145     479.0\n",
      "2         60  '2020/12/03'    103       135     340.0\n",
      "3         45  '2020/12/04'    109       175     282.4\n",
      "4         45  '2020/12/05'    117       148     406.0\n",
      "5         60  '2020/12/06'    102       127     300.0\n",
      "6         60  '2020/12/07'    110       136     374.0\n",
      "7        450  '2020/12/08'    104       134     253.3\n",
      "8         30  '2020/12/09'    109       133     195.1\n",
      "9         60  '2020/12/10'     98       124     269.0\n",
      "10        60  '2020/12/11'    103       147     329.3\n",
      "11        60  '2020/12/12'    100       120     250.7\n",
      "12        60  '2020/12/12'    100       120     250.7\n",
      "13        60  '2020/12/13'    106       128     345.3\n",
      "14        60  '2020/12/14'    104       132     379.3\n",
      "15        60  '2020/12/15'     98       123     275.0\n",
      "16        60  '2020/12/16'     98       120     215.2\n",
      "17        60  '2020/12/17'    100       120     300.0\n",
      "19        60  '2020/12/19'    103       123     323.0\n",
      "20        45  '2020/12/20'     97       125     243.0\n",
      "21        60  '2020/12/21'    108       131     364.2\n",
      "23        60  '2020/12/23'    130       101     300.0\n",
      "24        45  '2020/12/24'    105       132     246.0\n",
      "25        60  '2020/12/25'    102       126     334.5\n",
      "26        60      20201226    100       120     250.0\n",
      "27        60  '2020/12/27'     92       118     241.0\n",
      "29        60  '2020/12/29'    100       132     280.0\n",
      "30        60  '2020/12/30'    102       129     380.3\n",
      "31        60  '2020/12/31'     92       115     243.0\n",
      "\n",
      "Dataset after filling missing values with 'Unknown':\n",
      "     Duration          Date  Pulse  Maxpulse Calories\n",
      "0         60  '2020/12/01'    110       130    409.1\n",
      "1         60  '2020/12/02'    117       145    479.0\n",
      "2         60  '2020/12/03'    103       135    340.0\n",
      "3         45  '2020/12/04'    109       175    282.4\n",
      "4         45  '2020/12/05'    117       148    406.0\n",
      "5         60  '2020/12/06'    102       127    300.0\n",
      "6         60  '2020/12/07'    110       136    374.0\n",
      "7        450  '2020/12/08'    104       134    253.3\n",
      "8         30  '2020/12/09'    109       133    195.1\n",
      "9         60  '2020/12/10'     98       124    269.0\n",
      "10        60  '2020/12/11'    103       147    329.3\n",
      "11        60  '2020/12/12'    100       120    250.7\n",
      "12        60  '2020/12/12'    100       120    250.7\n",
      "13        60  '2020/12/13'    106       128    345.3\n",
      "14        60  '2020/12/14'    104       132    379.3\n",
      "15        60  '2020/12/15'     98       123    275.0\n",
      "16        60  '2020/12/16'     98       120    215.2\n",
      "17        60  '2020/12/17'    100       120    300.0\n",
      "18        45  '2020/12/18'     90       112  Unknown\n",
      "19        60  '2020/12/19'    103       123    323.0\n",
      "20        45  '2020/12/20'     97       125    243.0\n",
      "21        60  '2020/12/21'    108       131    364.2\n",
      "22        45       Unknown    100       119    282.0\n",
      "23        60  '2020/12/23'    130       101    300.0\n",
      "24        45  '2020/12/24'    105       132    246.0\n",
      "25        60  '2020/12/25'    102       126    334.5\n",
      "26        60      20201226    100       120    250.0\n",
      "27        60  '2020/12/27'     92       118    241.0\n",
      "28        60  '2020/12/28'    103       132  Unknown\n",
      "29        60  '2020/12/29'    100       132    280.0\n",
      "30        60  '2020/12/30'    102       129    380.3\n",
      "31        60  '2020/12/31'     92       115    243.0\n"
     ]
    }
   ],
   "source": [
    "#Step 3 : Handle data with empty cells\n",
    "\n",
    "#Use dropna()-to drop rows with missing values\n",
    "data_dropped = data.dropna()\n",
    "print(\"\\nDataset after dropping rows with missing values :\\n\",data_dropped)\n",
    "\n",
    "#Use fillna() \n",
    "data_filled = data.fillna('Unknown')\n",
    "print(\"\\nDataset after filling missing values with 'Unknown':\\n\",data_filled)\n"
   ]
  },
  {
   "cell_type": "code",
   "execution_count": 118,
   "id": "82c1bf5e-718d-4ee3-9871-6c259552ea4c",
   "metadata": {},
   "outputs": [
    {
     "name": "stdout",
     "output_type": "stream",
     "text": [
      "Duration    0\n",
      "Date        1\n",
      "Pulse       0\n",
      "Maxpulse    0\n",
      "Calories    2\n",
      "dtype: int64\n",
      "\n",
      "Dataset After Filling Miissing Values : \n",
      "\n",
      "     Duration          Date  Pulse  Maxpulse  Calories\n",
      "0         60  '2020/12/01'    110       130    409.10\n",
      "1         60  '2020/12/02'    117       145    479.00\n",
      "2         60  '2020/12/03'    103       135    340.00\n",
      "3         45  '2020/12/04'    109       175    282.40\n",
      "4         45  '2020/12/05'    117       148    406.00\n",
      "5         60  '2020/12/06'    102       127    300.00\n",
      "6         60  '2020/12/07'    110       136    374.00\n",
      "7        450  '2020/12/08'    104       134    253.30\n",
      "8         30  '2020/12/09'    109       133    195.10\n",
      "9         60  '2020/12/10'     98       124    269.00\n",
      "10        60  '2020/12/11'    103       147    329.30\n",
      "11        60  '2020/12/12'    100       120    250.70\n",
      "12        60  '2020/12/12'    100       120    250.70\n",
      "13        60  '2020/12/13'    106       128    345.30\n",
      "14        60  '2020/12/14'    104       132    379.30\n",
      "15        60  '2020/12/15'     98       123    275.00\n",
      "16        60  '2020/12/16'     98       120    215.20\n",
      "17        60  '2020/12/17'    100       120    300.00\n",
      "18        45  '2020/12/18'     90       112    304.68\n",
      "19        60  '2020/12/19'    103       123    323.00\n",
      "20        45  '2020/12/20'     97       125    243.00\n",
      "21        60  '2020/12/21'    108       131    364.20\n",
      "22        45  '2020/12/21'    100       119    282.00\n",
      "23        60  '2020/12/23'    130       101    300.00\n",
      "24        45  '2020/12/24'    105       132    246.00\n",
      "25        60  '2020/12/25'    102       126    334.50\n",
      "26        60      20201226    100       120    250.00\n",
      "27        60  '2020/12/27'     92       118    241.00\n",
      "28        60  '2020/12/28'    103       132    304.68\n",
      "29        60  '2020/12/29'    100       132    280.00\n",
      "30        60  '2020/12/30'    102       129    380.30\n",
      "31        60  '2020/12/31'     92       115    243.00\n"
     ]
    }
   ],
   "source": [
    "#Step 4 : Replace the empty cells with Mean,Median and Mode\n",
    "\n",
    "#check for empty cells\n",
    "print(data.isnull().sum())\n",
    "\n",
    "#Here we have missing values for  \"Date\" and \"Calories\" columns \n",
    "#Filling Missing \"Date\" using forward fill (ffill) -which copies the previous valid date to fill the missing one\n",
    "data['Date']=data['Date'].fillna(data['Date'].ffill())\n",
    "\n",
    "#Fill Missing \"Calories\" using mean\n",
    "data['Calories'] = data['Calories'].fillna(data['Calories'].mean())\n",
    "\n",
    "\n",
    "print(\"\\nDataset After Filling Miissing Values : \\n\\n\",data)\n"
   ]
  },
  {
   "cell_type": "code",
   "execution_count": 119,
   "id": "3280ea97-aa21-40dc-ad66-be1fedf20846",
   "metadata": {},
   "outputs": [
    {
     "name": "stdout",
     "output_type": "stream",
     "text": [
      "\n",
      "Data after Handling wrong date format : \n",
      "\n",
      "     Duration       Date  Pulse  Maxpulse  Calories\n",
      "0         60 2020-12-01    110       130    409.10\n",
      "1         60 2020-12-02    117       145    479.00\n",
      "2         60 2020-12-03    103       135    340.00\n",
      "3         45 2020-12-04    109       175    282.40\n",
      "4         45 2020-12-05    117       148    406.00\n",
      "5         60 2020-12-06    102       127    300.00\n",
      "6         60 2020-12-07    110       136    374.00\n",
      "7        450 2020-12-08    104       134    253.30\n",
      "8         30 2020-12-09    109       133    195.10\n",
      "9         60 2020-12-10     98       124    269.00\n",
      "10        60 2020-12-11    103       147    329.30\n",
      "11        60 2020-12-12    100       120    250.70\n",
      "12        60 2020-12-12    100       120    250.70\n",
      "13        60 2020-12-13    106       128    345.30\n",
      "14        60 2020-12-14    104       132    379.30\n",
      "15        60 2020-12-15     98       123    275.00\n",
      "16        60 2020-12-16     98       120    215.20\n",
      "17        60 2020-12-17    100       120    300.00\n",
      "18        45 2020-12-18     90       112    304.68\n",
      "19        60 2020-12-19    103       123    323.00\n",
      "20        45 2020-12-20     97       125    243.00\n",
      "21        60 2020-12-21    108       131    364.20\n",
      "22        45 2020-12-21    100       119    282.00\n",
      "23        60 2020-12-23    130       101    300.00\n",
      "24        45 2020-12-24    105       132    246.00\n",
      "25        60 2020-12-25    102       126    334.50\n",
      "26        60        NaT    100       120    250.00\n",
      "27        60 2020-12-27     92       118    241.00\n",
      "28        60 2020-12-28    103       132    304.68\n",
      "29        60 2020-12-29    100       132    280.00\n",
      "30        60 2020-12-30    102       129    380.30\n",
      "31        60 2020-12-31     92       115    243.00\n"
     ]
    }
   ],
   "source": [
    "#Step 5 : Handle the data in Wrong Format\n",
    "\n",
    "#Here \"Date\" column has an incorrectly formatted value (20201226).\n",
    "data['Date'] = pd.to_datetime(data['Date'],errors='coerce')\n",
    "\n",
    "print(\"\\nData after Handling wrong date format : \\n\\n\",data)"
   ]
  },
  {
   "cell_type": "code",
   "execution_count": 120,
   "id": "647fb099-6889-4034-921d-420342ce705e",
   "metadata": {},
   "outputs": [
    {
     "name": "stdout",
     "output_type": "stream",
     "text": [
      "\n",
      "     Duration       Date  Pulse  Maxpulse  Calories\n",
      "0         60 2020-12-01    110       130    409.10\n",
      "1         60 2020-12-02    117       145    479.00\n",
      "2         60 2020-12-03    103       135    340.00\n",
      "3         45 2020-12-04    109       175    282.40\n",
      "4         45 2020-12-05    117       148    406.00\n",
      "5         60 2020-12-06    102       127    300.00\n",
      "6         60 2020-12-07    110       136    374.00\n",
      "7         45 2020-12-08    104       134    253.30\n",
      "8         30 2020-12-09    109       133    195.10\n",
      "9         60 2020-12-10     98       124    269.00\n",
      "10        60 2020-12-11    103       147    329.30\n",
      "11        60 2020-12-12    100       120    250.70\n",
      "12        60 2020-12-12    100       120    250.70\n",
      "13        60 2020-12-13    106       128    345.30\n",
      "14        60 2020-12-14    104       132    379.30\n",
      "15        60 2020-12-15     98       123    275.00\n",
      "16        60 2020-12-16     98       120    215.20\n",
      "17        60 2020-12-17    100       120    300.00\n",
      "18        45 2020-12-18     90       112    304.68\n",
      "19        60 2020-12-19    103       123    323.00\n",
      "20        45 2020-12-20     97       125    243.00\n",
      "21        60 2020-12-21    108       131    364.20\n",
      "22        45 2020-12-21    100       119    282.00\n",
      "23        60 2020-12-23    130       101    300.00\n",
      "24        45 2020-12-24    105       132    246.00\n",
      "25        60 2020-12-25    102       126    334.50\n",
      "26        60        NaT    100       120    250.00\n",
      "27        60 2020-12-27     92       118    241.00\n",
      "28        60 2020-12-28    103       132    304.68\n",
      "29        60 2020-12-29    100       132    280.00\n",
      "30        60 2020-12-30    102       129    380.30\n",
      "31        60 2020-12-31     92       115    243.00\n"
     ]
    }
   ],
   "source": [
    "#Step 6 : Handle the Wrong data from the dataset\n",
    "\n",
    "#The value 450 in the \"Duration\" column seems abnormally high compared to other values.\n",
    "#Assuming 450 is 45 so replace it:\n",
    "\n",
    "data['Duration'] = data['Duration'].replace(450,45)\n",
    "\n",
    "print(\"\\n\",data)\n",
    "\n",
    "\n"
   ]
  },
  {
   "cell_type": "code",
   "execution_count": 123,
   "id": "165cd335-bed5-4433-8934-45b680dc0ddf",
   "metadata": {},
   "outputs": [
    {
     "name": "stdout",
     "output_type": "stream",
     "text": [
      "0     False\n",
      "1     False\n",
      "2     False\n",
      "3     False\n",
      "4     False\n",
      "5     False\n",
      "6     False\n",
      "7     False\n",
      "8     False\n",
      "9     False\n",
      "10    False\n",
      "11    False\n",
      "12     True\n",
      "13    False\n",
      "14    False\n",
      "15    False\n",
      "16    False\n",
      "17    False\n",
      "18    False\n",
      "19    False\n",
      "20    False\n",
      "21    False\n",
      "22    False\n",
      "23    False\n",
      "24    False\n",
      "25    False\n",
      "26    False\n",
      "27    False\n",
      "28    False\n",
      "29    False\n",
      "30    False\n",
      "31    False\n",
      "dtype: bool\n",
      "    Duration       Date  Pulse  Maxpulse  Calories\n",
      "0         60 2020-12-01    110       130    409.10\n",
      "1         60 2020-12-02    117       145    479.00\n",
      "2         60 2020-12-03    103       135    340.00\n",
      "3         45 2020-12-04    109       175    282.40\n",
      "4         45 2020-12-05    117       148    406.00\n",
      "5         60 2020-12-06    102       127    300.00\n",
      "6         60 2020-12-07    110       136    374.00\n",
      "7         45 2020-12-08    104       134    253.30\n",
      "8         30 2020-12-09    109       133    195.10\n",
      "9         60 2020-12-10     98       124    269.00\n",
      "10        60 2020-12-11    103       147    329.30\n",
      "11        60 2020-12-12    100       120    250.70\n",
      "13        60 2020-12-13    106       128    345.30\n",
      "14        60 2020-12-14    104       132    379.30\n",
      "15        60 2020-12-15     98       123    275.00\n",
      "16        60 2020-12-16     98       120    215.20\n",
      "17        60 2020-12-17    100       120    300.00\n",
      "18        45 2020-12-18     90       112    304.68\n",
      "19        60 2020-12-19    103       123    323.00\n",
      "20        45 2020-12-20     97       125    243.00\n",
      "21        60 2020-12-21    108       131    364.20\n",
      "22        45 2020-12-21    100       119    282.00\n",
      "23        60 2020-12-23    130       101    300.00\n",
      "24        45 2020-12-24    105       132    246.00\n",
      "25        60 2020-12-25    102       126    334.50\n",
      "26        60        NaT    100       120    250.00\n",
      "27        60 2020-12-27     92       118    241.00\n",
      "28        60 2020-12-28    103       132    304.68\n",
      "29        60 2020-12-29    100       132    280.00\n",
      "30        60 2020-12-30    102       129    380.30\n",
      "31        60 2020-12-31     92       115    243.00\n"
     ]
    }
   ],
   "source": [
    "#Step 7 : Discover and remove duplicates\n",
    "\n",
    "#Discovering duplicates\n",
    "duplicates = data.duplicated()\n",
    "print(duplicates)\n",
    "\n",
    "#Discovered there is duplicate value in 12th row\n",
    "#Removing  duplicates\n",
    "data_dup_removed = data.drop_duplicates()\n",
    "\n",
    "print(data_dup_removed)\n",
    "\n"
   ]
  },
  {
   "cell_type": "code",
   "execution_count": 122,
   "id": "f17b35b3-a859-410d-bb07-f6d458420abb",
   "metadata": {},
   "outputs": [
    {
     "name": "stdout",
     "output_type": "stream",
     "text": [
      "    Duration       Date  Pulse  Maxpulse  Calories\n",
      "0         60 2020-12-01    110       130    409.10\n",
      "1         60 2020-12-02    117       145    479.00\n",
      "2         60 2020-12-03    103       135    340.00\n",
      "3         45 2020-12-04    109       175    282.40\n",
      "4         45 2020-12-05    117       148    406.00\n",
      "5         60 2020-12-06    102       127    300.00\n",
      "6         60 2020-12-07    110       136    374.00\n",
      "7         45 2020-12-08    104       134    253.30\n",
      "8         30 2020-12-09    109       133    195.10\n",
      "9         60 2020-12-10     98       124    269.00\n",
      "10        60 2020-12-11    103       147    329.30\n",
      "11        60 2020-12-12    100       120    250.70\n",
      "12        60 2020-12-12    100       120    250.70\n",
      "13        60 2020-12-13    106       128    345.30\n",
      "14        60 2020-12-14    104       132    379.30\n",
      "15        60 2020-12-15     98       123    275.00\n",
      "16        60 2020-12-16     98       120    215.20\n",
      "17        60 2020-12-17    100       120    300.00\n",
      "18        45 2020-12-18     90       112    304.68\n",
      "19        60 2020-12-19    103       123    323.00\n",
      "20        45 2020-12-20     97       125    243.00\n",
      "21        60 2020-12-21    108       131    364.20\n",
      "22        45 2020-12-21    100       119    282.00\n",
      "23        60 2020-12-23    130       101    300.00\n",
      "24        45 2020-12-24    105       132    246.00\n",
      "25        60 2020-12-25    102       126    334.50\n",
      "26        60        NaT    100       120    250.00\n",
      "27        60 2020-12-27     92       118    241.00\n",
      "28        60 2020-12-28    103       132    304.68\n",
      "29        60 2020-12-29    100       132    280.00\n",
      "30        60 2020-12-30    102       129    380.30\n",
      "31        60 2020-12-31     92       115    243.00\n"
     ]
    }
   ],
   "source": [
    "print(data)"
   ]
  },
  {
   "cell_type": "markdown",
   "id": "a773d69c-0b17-423e-8050-18c94a36ee65",
   "metadata": {},
   "source": [
    "5.3. Create a cricketer dataset using a dictionary of lists, and create a new\n",
    "attribute ‘Experience Category’ using ‘Age’ as the binning factor."
   ]
  },
  {
   "cell_type": "code",
   "execution_count": 124,
   "id": "855512bc-b2d4-4b82-9490-09e756c22d44",
   "metadata": {},
   "outputs": [],
   "source": [
    "#Step 1 : Import\n",
    "import pandas as pd"
   ]
  },
  {
   "cell_type": "code",
   "execution_count": 128,
   "id": "7c47f65f-500f-4776-aa45-af5143f9ba2c",
   "metadata": {},
   "outputs": [
    {
     "name": "stdout",
     "output_type": "stream",
     "text": [
      "\n",
      "Cricketer Database : \n",
      "\n",
      "                Name  Age   Runs  Wickets  Matches\n",
      "0       Virat Kohli   34  12000        4      250\n",
      "1      Rohit Sharma   36  10000        8      200\n",
      "2          MS Shoni   39  10500        1      350\n",
      "3  Sachin Tendulkar   47  18426      154      463\n",
      "4     Hardik Pandya   28   3500       55       80\n",
      "5   Ravindra Jadeja   32   2400      185      100\n",
      "6      Shubman Gill   24   1800        0       30\n",
      "7      Rishabh Pant   26   2500        0       50\n",
      "8     Yuvaraj Singh   41   8700      111      300\n"
     ]
    }
   ],
   "source": [
    "#Step 2 : Create cricketer Dataset using dictionary of lists\n",
    "\n",
    "#Create Dictionary:\n",
    "data = {\n",
    "    'Name' : ['Virat Kohli','Rohit Sharma','MS Shoni','Sachin Tendulkar','Hardik Pandya','Ravindra Jadeja','Shubman Gill','Rishabh Pant','Yuvaraj Singh'],\n",
    "    'Age':[34, 36, 39, 47, 28, 32, 24, 26, 41],\n",
    "    'Runs': [12000, 10000, 10500, 18426, 3500, 2400, 1800, 2500, 8700],\n",
    "    'Wickets': [4, 8, 1, 154, 55, 185, 0, 0, 111],\n",
    "    'Matches': [250, 200, 350, 463, 80, 100, 30, 50, 300]\n",
    "}\n",
    "\n",
    "#Convert the Dictionary to pandas DataFrame:\n",
    "cricketer_df = pd.DataFrame(data)\n",
    "\n",
    "print(\"\\nCricketer Database : \\n\\n\",cricketer_df)"
   ]
  },
  {
   "cell_type": "code",
   "execution_count": 129,
   "id": "a6b36621-2010-4452-845c-d1fb7b1599ef",
   "metadata": {},
   "outputs": [
    {
     "name": "stdout",
     "output_type": "stream",
     "text": [
      "\n",
      "Cricketer Database with 'Experience Category' : \n",
      "\n",
      "                Name  Age   Runs  Wickets  Matches Experience Category\n",
      "0       Virat Kohli   34  12000        4      250           mid_level\n",
      "1      Rohit Sharma   36  10000        8      200         experienced\n",
      "2          MS Shoni   39  10500        1      350         experienced\n",
      "3  Sachin Tendulkar   47  18426      154      463         experienced\n",
      "4     Hardik Pandya   28   3500       55       80           mid_level\n",
      "5   Ravindra Jadeja   32   2400      185      100           mid_level\n",
      "6      Shubman Gill   24   1800        0       30               young\n",
      "7      Rishabh Pant   26   2500        0       50           mid_level\n",
      "8     Yuvaraj Singh   41   8700      111      300         experienced\n"
     ]
    }
   ],
   "source": [
    "#Step 3 : create a new attribute ‘Experience Category’ using ‘Age’ as the binning factor\n",
    "\n",
    "#Define Bins and Labels\n",
    "bins = [0,25,35,50]\n",
    "labels =['young','mid_level','experienced']\n",
    "\n",
    "#create new attribute\n",
    "cricketer_df['Experience Category']= pd.cut(cricketer_df['Age'],bins=bins,labels=labels,right=False)\n",
    "\n",
    "print(\"\\nCricketer Database with 'Experience Category' : \\n\\n\",cricketer_df)"
   ]
  },
  {
   "cell_type": "markdown",
   "id": "a71c0d1d-a62f-4c87-848e-32171fa67643",
   "metadata": {},
   "source": [
    "5.4. car_age = [5, 7, 8, 7, 2, 17, 2, 9, 4, 11, 12, 9, 6]\n",
    "car_speed = [99,86,87,88,111,86,103,87,94,78,77,85,86]\n",
    "\n",
    "Using the given dataset,\n",
    "    5.4.1. Draw the line of linear regression\n",
    "    5.4.2. Evaluate how well the data fit in linear regression.\n",
    "    5.4.3. Predict the speed of a 10-year-old car"
   ]
  },
  {
   "cell_type": "code",
   "execution_count": 130,
   "id": "654e4704-d97c-4ef3-b1fb-df6581a20d52",
   "metadata": {},
   "outputs": [],
   "source": [
    "#Step 1 : import \n",
    "import numpy as np\n",
    "import matplotlib.pyplot as plt\n",
    "from sklearn.linear_model import LinearRegression\n",
    "from sklearn.metrics import r2_score"
   ]
  },
  {
   "cell_type": "code",
   "execution_count": 133,
   "id": "614df592-507b-45f4-927c-e3241e0ed624",
   "metadata": {},
   "outputs": [],
   "source": [
    "#Step 2:Prepare the Dataset\n",
    "\n",
    "#Given data\n",
    "car_age = [5, 7, 8, 7, 2, 17, 2, 9, 4, 11, 12, 9, 6]\n",
    "car_speed = [99,86,87,88,111,86,103,87,94,78,77,85,86]\n",
    "\n",
    "#Covert to numpy arrays and Reshape for Linear Regression\n",
    "X = np.array(car_age).reshape(-1,1) #Independent variable\n",
    "y = np.array(car_speed) #Dependent Variable\n"
   ]
  },
  {
   "cell_type": "code",
   "execution_count": 134,
   "id": "77b57048-5787-42f1-96e9-b1aa7b611cc5",
   "metadata": {},
   "outputs": [
    {
     "data": {
      "image/png": "[encoded data removed]",
      "text/plain": [
       "<Figure size 640x480 with 1 Axes>"
      ]
     },
     "metadata": {},
     "output_type": "display_data"
    }
   ],
   "source": [
    "#Step 3 : Draw Linear Regression model\n",
    "\n",
    "#Initialize LinearRegression Model\n",
    "model = LinearRegression()\n",
    "\n",
    "#Fit the Model\n",
    "model.fit(X,y)\n",
    "\n",
    "#Predict values for the Line of Best Fit\n",
    "y_pred = model.predict(X)\n",
    "\n",
    "#Plot the data and Line of Best Fit\n",
    "plt.scatter(car_age,car_speed,color='blue',label='Actual data')\n",
    "plt.plot(car_age,y_pred,color='red',label='Linear Regression Line')\n",
    "plt.title('Car Age Vs Speed(Linear Regression)')\n",
    "plt.xlabel('Car Age')\n",
    "plt.ylabel('Car Speed')\n",
    "plt.legend()\n",
    "plt.show()\n",
    "\n",
    "\n"
   ]
  },
  {
   "cell_type": "code",
   "execution_count": 135,
   "id": "12df94a9-a6f0-4ace-94d5-01d73a67c892",
   "metadata": {},
   "outputs": [
    {
     "name": "stdout",
     "output_type": "stream",
     "text": [
      "R-Squared : 0.5754611008553381\n"
     ]
    }
   ],
   "source": [
    "#Step 4: Evaluate how well the data fit in linear regression\n",
    "\n",
    "#Calculate R-square\n",
    "#The R-squared value tells how well the regression line fits the data.\n",
    "#A value closer to 1 means a good fit.\n",
    "\n",
    "r_squared = r2_score(y,y_pred)\n",
    "print(f'R-Squared : {r_squared}')\n"
   ]
  },
  {
   "cell_type": "code",
   "execution_count": 147,
   "id": "c67edbba-54af-4b12-94e7-0d803784a4f3",
   "metadata": {},
   "outputs": [
    {
     "name": "stdout",
     "output_type": "stream",
     "text": [
      "Predicted speeed for a 10-year old car : 85.59308314937454 mph\n"
     ]
    }
   ],
   "source": [
    "#Step 5:Predict the speed of a 10-year-old car\n",
    "\n",
    "predicted_speed = model.predict([[10]])\n",
    "print(f'Predicted speeed for a 10-year old car : {predicted_speed[0]} mph')"
   ]
  },
  {
   "cell_type": "code",
   "execution_count": null,
   "id": "4424605e-646d-42f1-b521-7eb4ed00aaea",
   "metadata": {},
   "outputs": [],
   "source": [
    "5.5. Using the dataset (cars.csv),\n",
    "    5.5.1. Predict the CO2 emissions of a car with a weight of 2300 kg and\n",
    "    volume of 1300 cm3.\n",
    "    5.5.2. Print the coefficient values of the regression object.\n",
    "        "
   ]
  },
  {
   "cell_type": "code",
   "execution_count": 149,
   "id": "2e540030-3aed-4172-8fd0-51cbf73dfd16",
   "metadata": {},
   "outputs": [],
   "source": [
    "#Step 1:Import\n",
    "import pandas as pd\n",
    "import numpy as np\n",
    "from sklearn.linear_model import LinearRegression"
   ]
  },
  {
   "cell_type": "code",
   "execution_count": 154,
   "id": "d8eaa018-13e6-4e9c-b5c1-f8cfaa1411d4",
   "metadata": {},
   "outputs": [
    {
     "name": "stdout",
     "output_type": "stream",
     "text": [
      "           Car       Model  Volume  Weight  CO2\n",
      "0       Toyoty        Aygo    1000     790   99\n",
      "1   Mitsubishi  Space Star    1200    1160   95\n",
      "2        Skoda      Citigo    1000     929   95\n",
      "3         Fiat         500     900     865   90\n",
      "4         Mini      Cooper    1500    1140  105\n",
      "5           VW         Up!    1000     929  105\n",
      "6        Skoda       Fabia    1400    1109   90\n",
      "7     Mercedes     A-Class    1500    1365   92\n",
      "8         Ford      Fiesta    1500    1112   98\n",
      "9         Audi          A1    1600    1150   99\n",
      "10     Hyundai         I20    1100     980   99\n",
      "11      Suzuki       Swift    1300     990  101\n",
      "12        Ford      Fiesta    1000    1112   99\n",
      "13       Honda       Civic    1600    1252   94\n",
      "14      Hundai         I30    1600    1326   97\n",
      "15        Opel       Astra    1600    1330   97\n",
      "16         BMW           1    1600    1365   99\n",
      "17       Mazda           3    2200    1280  104\n",
      "18       Skoda       Rapid    1600    1119  104\n",
      "19        Ford       Focus    2000    1328  105\n",
      "20        Ford      Mondeo    1600    1584   94\n",
      "21        Opel    Insignia    2000    1428   99\n",
      "22    Mercedes     C-Class    2100    1365   99\n",
      "23       Skoda     Octavia    1600    1415   99\n",
      "24       Volvo         S60    2000    1415   99\n",
      "25    Mercedes         CLA    1500    1465  102\n",
      "26        Audi          A4    2000    1490  104\n",
      "27        Audi          A6    2000    1725  114\n",
      "28       Volvo         V70    1600    1523  109\n",
      "29         BMW           5    2000    1705  114\n",
      "30    Mercedes     E-Class    2100    1605  115\n",
      "31       Volvo        XC70    2000    1746  117\n",
      "32        Ford       B-Max    1600    1235  104\n",
      "33         BMW         216    1600    1390  108\n",
      "34        Opel      Zafira    1600    1405  109\n",
      "35    Mercedes         SLK    2500    1395  120\n"
     ]
    }
   ],
   "source": [
    "#Step 2:Load dataset\n",
    "data = pd.read_csv('cars.csv')\n",
    "\n",
    "print(data)"
   ]
  },
  {
   "cell_type": "code",
   "execution_count": 155,
   "id": "6992b420-d1b0-455c-bc2c-a4b292328811",
   "metadata": {},
   "outputs": [],
   "source": [
    "#Step 3:Prepare the data \n",
    "X = data[['Volume','Weight']] #Independent Variables\n",
    "y = data['CO2'] #Dependent Variables\n"
   ]
  },
  {
   "cell_type": "code",
   "execution_count": 161,
   "id": "4b4c0cad-93da-4b49-a9ea-de19e0eaf374",
   "metadata": {},
   "outputs": [
    {
     "data": {
      "text/html": [
       "<style>#sk-container-id-3 {\n",
       "  /* Definition of color scheme common for light and dark mode */\n",
       "  --sklearn-color-text: black;\n",
       "  --sklearn-color-line: gray;\n",
       "  /* Definition of color scheme for unfitted estimators */\n",
       "  --sklearn-color-unfitted-level-0: #fff5e6;\n",
       "  --sklearn-color-unfitted-level-1: #f6e4d2;\n",
       "  --sklearn-color-unfitted-level-2: #ffe0b3;\n",
       "  --sklearn-color-unfitted-level-3: chocolate;\n",
       "  /* Definition of color scheme for fitted estimators */\n",
       "  --sklearn-color-fitted-level-0: #f0f8ff;\n",
       "  --sklearn-color-fitted-level-1: #d4ebff;\n",
       "  --sklearn-color-fitted-level-2: #b3dbfd;\n",
       "  --sklearn-color-fitted-level-3: cornflowerblue;\n",
       "\n",
       "  /* Specific color for light theme */\n",
       "  --sklearn-color-text-on-default-background: var(--sg-text-color, var(--theme-code-foreground, var(--jp-content-font-color1, black)));\n",
       "  --sklearn-color-background: var(--sg-background-color, var(--theme-background, var(--jp-layout-color0, white)));\n",
       "  --sklearn-color-border-box: var(--sg-text-color, var(--theme-code-foreground, var(--jp-content-font-color1, black)));\n",
       "  --sklearn-color-icon: #696969;\n",
       "\n",
       "  @media (prefers-color-scheme: dark) {\n",
       "    /* Redefinition of color scheme for dark theme */\n",
       "    --sklearn-color-text-on-default-background: var(--sg-text-color, var(--theme-code-foreground, var(--jp-content-font-color1, white)));\n",
       "    --sklearn-color-background: var(--sg-background-color, var(--theme-background, var(--jp-layout-color0, #111)));\n",
       "    --sklearn-color-border-box: var(--sg-text-color, var(--theme-code-foreground, var(--jp-content-font-color1, white)));\n",
       "    --sklearn-color-icon: #878787;\n",
       "  }\n",
       "}\n",
       "\n",
       "#sk-container-id-3 {\n",
       "  color: var(--sklearn-color-text);\n",
       "}\n",
       "\n",
       "#sk-container-id-3 pre {\n",
       "  padding: 0;\n",
       "}\n",
       "\n",
       "#sk-container-id-3 input.sk-hidden--visually {\n",
       "  border: 0;\n",
       "  clip: rect(1px 1px 1px 1px);\n",
       "  clip: rect(1px, 1px, 1px, 1px);\n",
       "  height: 1px;\n",
       "  margin: -1px;\n",
       "  overflow: hidden;\n",
       "  padding: 0;\n",
       "  position: absolute;\n",
       "  width: 1px;\n",
       "}\n",
       "\n",
       "#sk-container-id-3 div.sk-dashed-wrapped {\n",
       "  border: 1px dashed var(--sklearn-color-line);\n",
       "  margin: 0 0.4em 0.5em 0.4em;\n",
       "  box-sizing: border-box;\n",
       "  padding-bottom: 0.4em;\n",
       "  background-color: var(--sklearn-color-background);\n",
       "}\n",
       "\n",
       "#sk-container-id-3 div.sk-container {\n",
       "  /* jupyter's `normalize.less` sets `[hidden] { display: none; }`\n",
       "     but bootstrap.min.css set `[hidden] { display: none !important; }`\n",
       "     so we also need the `!important` here to be able to override the\n",
       "     default hidden behavior on the sphinx rendered scikit-learn.org.\n",
       "     See: https://github.com/scikit-learn/scikit-learn/issues/21755 */\n",
       "  display: inline-block !important;\n",
       "  position: relative;\n",
       "}\n",
       "\n",
       "#sk-container-id-3 div.sk-text-repr-fallback {\n",
       "  display: none;\n",
       "}\n",
       "\n",
       "div.sk-parallel-item,\n",
       "div.sk-serial,\n",
       "div.sk-item {\n",
       "  /* draw centered vertical line to link estimators */\n",
       "  background-image: linear-gradient(var(--sklearn-color-text-on-default-background), var(--sklearn-color-text-on-default-background));\n",
       "  background-size: 2px 100%;\n",
       "  background-repeat: no-repeat;\n",
       "  background-position: center center;\n",
       "}\n",
       "\n",
       "/* Parallel-specific style estimator block */\n",
       "\n",
       "#sk-container-id-3 div.sk-parallel-item::after {\n",
       "  content: \"\";\n",
       "  width: 100%;\n",
       "  border-bottom: 2px solid var(--sklearn-color-text-on-default-background);\n",
       "  flex-grow: 1;\n",
       "}\n",
       "\n",
       "#sk-container-id-3 div.sk-parallel {\n",
       "  display: flex;\n",
       "  align-items: stretch;\n",
       "  justify-content: center;\n",
       "  background-color: var(--sklearn-color-background);\n",
       "  position: relative;\n",
       "}\n",
       "\n",
       "#sk-container-id-3 div.sk-parallel-item {\n",
       "  display: flex;\n",
       "  flex-direction: column;\n",
       "}\n",
       "\n",
       "#sk-container-id-3 div.sk-parallel-item:first-child::after {\n",
       "  align-self: flex-end;\n",
       "  width: 50%;\n",
       "}\n",
       "\n",
       "#sk-container-id-3 div.sk-parallel-item:last-child::after {\n",
       "  align-self: flex-start;\n",
       "  width: 50%;\n",
       "}\n",
       "\n",
       "#sk-container-id-3 div.sk-parallel-item:only-child::after {\n",
       "  width: 0;\n",
       "}\n",
       "\n",
       "/* Serial-specific style estimator block */\n",
       "\n",
       "#sk-container-id-3 div.sk-serial {\n",
       "  display: flex;\n",
       "  flex-direction: column;\n",
       "  align-items: center;\n",
       "  background-color: var(--sklearn-color-background);\n",
       "  padding-right: 1em;\n",
       "  padding-left: 1em;\n",
       "}\n",
       "\n",
       "\n",
       "/* Toggleable style: style used for estimator/Pipeline/ColumnTransformer box that is\n",
       "clickable and can be expanded/collapsed.\n",
       "- Pipeline and ColumnTransformer use this feature and define the default style\n",
       "- Estimators will overwrite some part of the style using the `sk-estimator` class\n",
       "*/\n",
       "\n",
       "/* Pipeline and ColumnTransformer style (default) */\n",
       "\n",
       "#sk-container-id-3 div.sk-toggleable {\n",
       "  /* Default theme specific background. It is overwritten whether we have a\n",
       "  specific estimator or a Pipeline/ColumnTransformer */\n",
       "  background-color: var(--sklearn-color-background);\n",
       "}\n",
       "\n",
       "/* Toggleable label */\n",
       "#sk-container-id-3 label.sk-toggleable__label {\n",
       "  cursor: pointer;\n",
       "  display: block;\n",
       "  width: 100%;\n",
       "  margin-bottom: 0;\n",
       "  padding: 0.5em;\n",
       "  box-sizing: border-box;\n",
       "  text-align: center;\n",
       "}\n",
       "\n",
       "#sk-container-id-3 label.sk-toggleable__label-arrow:before {\n",
       "  /* Arrow on the left of the label */\n",
       "  content: \"▸\";\n",
       "  float: left;\n",
       "  margin-right: 0.25em;\n",
       "  color: var(--sklearn-color-icon);\n",
       "}\n",
       "\n",
       "#sk-container-id-3 label.sk-toggleable__label-arrow:hover:before {\n",
       "  color: var(--sklearn-color-text);\n",
       "}\n",
       "\n",
       "/* Toggleable content - dropdown */\n",
       "\n",
       "#sk-container-id-3 div.sk-toggleable__content {\n",
       "  max-height: 0;\n",
       "  max-width: 0;\n",
       "  overflow: hidden;\n",
       "  text-align: left;\n",
       "  /* unfitted */\n",
       "  background-color: var(--sklearn-color-unfitted-level-0);\n",
       "}\n",
       "\n",
       "#sk-container-id-3 div.sk-toggleable__content.fitted {\n",
       "  /* fitted */\n",
       "  background-color: var(--sklearn-color-fitted-level-0);\n",
       "}\n",
       "\n",
       "#sk-container-id-3 div.sk-toggleable__content pre {\n",
       "  margin: 0.2em;\n",
       "  border-radius: 0.25em;\n",
       "  color: var(--sklearn-color-text);\n",
       "  /* unfitted */\n",
       "  background-color: var(--sklearn-color-unfitted-level-0);\n",
       "}\n",
       "\n",
       "#sk-container-id-3 div.sk-toggleable__content.fitted pre {\n",
       "  /* unfitted */\n",
       "  background-color: var(--sklearn-color-fitted-level-0);\n",
       "}\n",
       "\n",
       "#sk-container-id-3 input.sk-toggleable__control:checked~div.sk-toggleable__content {\n",
       "  /* Expand drop-down */\n",
       "  max-height: 200px;\n",
       "  max-width: 100%;\n",
       "  overflow: auto;\n",
       "}\n",
       "\n",
       "#sk-container-id-3 input.sk-toggleable__control:checked~label.sk-toggleable__label-arrow:before {\n",
       "  content: \"▾\";\n",
       "}\n",
       "\n",
       "/* Pipeline/ColumnTransformer-specific style */\n",
       "\n",
       "#sk-container-id-3 div.sk-label input.sk-toggleable__control:checked~label.sk-toggleable__label {\n",
       "  color: var(--sklearn-color-text);\n",
       "  background-color: var(--sklearn-color-unfitted-level-2);\n",
       "}\n",
       "\n",
       "#sk-container-id-3 div.sk-label.fitted input.sk-toggleable__control:checked~label.sk-toggleable__label {\n",
       "  background-color: var(--sklearn-color-fitted-level-2);\n",
       "}\n",
       "\n",
       "/* Estimator-specific style */\n",
       "\n",
       "/* Colorize estimator box */\n",
       "#sk-container-id-3 div.sk-estimator input.sk-toggleable__control:checked~label.sk-toggleable__label {\n",
       "  /* unfitted */\n",
       "  background-color: var(--sklearn-color-unfitted-level-2);\n",
       "}\n",
       "\n",
       "#sk-container-id-3 div.sk-estimator.fitted input.sk-toggleable__control:checked~label.sk-toggleable__label {\n",
       "  /* fitted */\n",
       "  background-color: var(--sklearn-color-fitted-level-2);\n",
       "}\n",
       "\n",
       "#sk-container-id-3 div.sk-label label.sk-toggleable__label,\n",
       "#sk-container-id-3 div.sk-label label {\n",
       "  /* The background is the default theme color */\n",
       "  color: var(--sklearn-color-text-on-default-background);\n",
       "}\n",
       "\n",
       "/* On hover, darken the color of the background */\n",
       "#sk-container-id-3 div.sk-label:hover label.sk-toggleable__label {\n",
       "  color: var(--sklearn-color-text);\n",
       "  background-color: var(--sklearn-color-unfitted-level-2);\n",
       "}\n",
       "\n",
       "/* Label box, darken color on hover, fitted */\n",
       "#sk-container-id-3 div.sk-label.fitted:hover label.sk-toggleable__label.fitted {\n",
       "  color: var(--sklearn-color-text);\n",
       "  background-color: var(--sklearn-color-fitted-level-2);\n",
       "}\n",
       "\n",
       "/* Estimator label */\n",
       "\n",
       "#sk-container-id-3 div.sk-label label {\n",
       "  font-family: monospace;\n",
       "  font-weight: bold;\n",
       "  display: inline-block;\n",
       "  line-height: 1.2em;\n",
       "}\n",
       "\n",
       "#sk-container-id-3 div.sk-label-container {\n",
       "  text-align: center;\n",
       "}\n",
       "\n",
       "/* Estimator-specific */\n",
       "#sk-container-id-3 div.sk-estimator {\n",
       "  font-family: monospace;\n",
       "  border: 1px dotted var(--sklearn-color-border-box);\n",
       "  border-radius: 0.25em;\n",
       "  box-sizing: border-box;\n",
       "  margin-bottom: 0.5em;\n",
       "  /* unfitted */\n",
       "  background-color: var(--sklearn-color-unfitted-level-0);\n",
       "}\n",
       "\n",
       "#sk-container-id-3 div.sk-estimator.fitted {\n",
       "  /* fitted */\n",
       "  background-color: var(--sklearn-color-fitted-level-0);\n",
       "}\n",
       "\n",
       "/* on hover */\n",
       "#sk-container-id-3 div.sk-estimator:hover {\n",
       "  /* unfitted */\n",
       "  background-color: var(--sklearn-color-unfitted-level-2);\n",
       "}\n",
       "\n",
       "#sk-container-id-3 div.sk-estimator.fitted:hover {\n",
       "  /* fitted */\n",
       "  background-color: var(--sklearn-color-fitted-level-2);\n",
       "}\n",
       "\n",
       "/* Specification for estimator info (e.g. \"i\" and \"?\") */\n",
       "\n",
       "/* Common style for \"i\" and \"?\" */\n",
       "\n",
       ".sk-estimator-doc-link,\n",
       "a:link.sk-estimator-doc-link,\n",
       "a:visited.sk-estimator-doc-link {\n",
       "  float: right;\n",
       "  font-size: smaller;\n",
       "  line-height: 1em;\n",
       "  font-family: monospace;\n",
       "  background-color: var(--sklearn-color-background);\n",
       "  border-radius: 1em;\n",
       "  height: 1em;\n",
       "  width: 1em;\n",
       "  text-decoration: none !important;\n",
       "  margin-left: 1ex;\n",
       "  /* unfitted */\n",
       "  border: var(--sklearn-color-unfitted-level-1) 1pt solid;\n",
       "  color: var(--sklearn-color-unfitted-level-1);\n",
       "}\n",
       "\n",
       ".sk-estimator-doc-link.fitted,\n",
       "a:link.sk-estimator-doc-link.fitted,\n",
       "a:visited.sk-estimator-doc-link.fitted {\n",
       "  /* fitted */\n",
       "  border: var(--sklearn-color-fitted-level-1) 1pt solid;\n",
       "  color: var(--sklearn-color-fitted-level-1);\n",
       "}\n",
       "\n",
       "/* On hover */\n",
       "div.sk-estimator:hover .sk-estimator-doc-link:hover,\n",
       ".sk-estimator-doc-link:hover,\n",
       "div.sk-label-container:hover .sk-estimator-doc-link:hover,\n",
       ".sk-estimator-doc-link:hover {\n",
       "  /* unfitted */\n",
       "  background-color: var(--sklearn-color-unfitted-level-3);\n",
       "  color: var(--sklearn-color-background);\n",
       "  text-decoration: none;\n",
       "}\n",
       "\n",
       "div.sk-estimator.fitted:hover .sk-estimator-doc-link.fitted:hover,\n",
       ".sk-estimator-doc-link.fitted:hover,\n",
       "div.sk-label-container:hover .sk-estimator-doc-link.fitted:hover,\n",
       ".sk-estimator-doc-link.fitted:hover {\n",
       "  /* fitted */\n",
       "  background-color: var(--sklearn-color-fitted-level-3);\n",
       "  color: var(--sklearn-color-background);\n",
       "  text-decoration: none;\n",
       "}\n",
       "\n",
       "/* Span, style for the box shown on hovering the info icon */\n",
       ".sk-estimator-doc-link span {\n",
       "  display: none;\n",
       "  z-index: 9999;\n",
       "  position: relative;\n",
       "  font-weight: normal;\n",
       "  right: .2ex;\n",
       "  padding: .5ex;\n",
       "  margin: .5ex;\n",
       "  width: min-content;\n",
       "  min-width: 20ex;\n",
       "  max-width: 50ex;\n",
       "  color: var(--sklearn-color-text);\n",
       "  box-shadow: 2pt 2pt 4pt #999;\n",
       "  /* unfitted */\n",
       "  background: var(--sklearn-color-unfitted-level-0);\n",
       "  border: .5pt solid var(--sklearn-color-unfitted-level-3);\n",
       "}\n",
       "\n",
       ".sk-estimator-doc-link.fitted span {\n",
       "  /* fitted */\n",
       "  background: var(--sklearn-color-fitted-level-0);\n",
       "  border: var(--sklearn-color-fitted-level-3);\n",
       "}\n",
       "\n",
       ".sk-estimator-doc-link:hover span {\n",
       "  display: block;\n",
       "}\n",
       "\n",
       "/* \"?\"-specific style due to the `<a>` HTML tag */\n",
       "\n",
       "#sk-container-id-3 a.estimator_doc_link {\n",
       "  float: right;\n",
       "  font-size: 1rem;\n",
       "  line-height: 1em;\n",
       "  font-family: monospace;\n",
       "  background-color: var(--sklearn-color-background);\n",
       "  border-radius: 1rem;\n",
       "  height: 1rem;\n",
       "  width: 1rem;\n",
       "  text-decoration: none;\n",
       "  /* unfitted */\n",
       "  color: var(--sklearn-color-unfitted-level-1);\n",
       "  border: var(--sklearn-color-unfitted-level-1) 1pt solid;\n",
       "}\n",
       "\n",
       "#sk-container-id-3 a.estimator_doc_link.fitted {\n",
       "  /* fitted */\n",
       "  border: var(--sklearn-color-fitted-level-1) 1pt solid;\n",
       "  color: var(--sklearn-color-fitted-level-1);\n",
       "}\n",
       "\n",
       "/* On hover */\n",
       "#sk-container-id-3 a.estimator_doc_link:hover {\n",
       "  /* unfitted */\n",
       "  background-color: var(--sklearn-color-unfitted-level-3);\n",
       "  color: var(--sklearn-color-background);\n",
       "  text-decoration: none;\n",
       "}\n",
       "\n",
       "#sk-container-id-3 a.estimator_doc_link.fitted:hover {\n",
       "  /* fitted */\n",
       "  background-color: var(--sklearn-color-fitted-level-3);\n",
       "}\n",
       "</style><div id=\"sk-container-id-3\" class=\"sk-top-container\"><div class=\"sk-text-repr-fallback\"><pre>LinearRegression()</pre><b>In a Jupyter environment, please rerun this cell to show the HTML representation or trust the notebook. <br />On GitHub, the HTML representation is unable to render, please try loading this page with nbviewer.org.</b></div><div class=\"sk-container\" hidden><div class=\"sk-item\"><div class=\"sk-estimator fitted sk-toggleable\"><input class=\"sk-toggleable__control sk-hidden--visually\" id=\"sk-estimator-id-3\" type=\"checkbox\" checked><label for=\"sk-estimator-id-3\" class=\"sk-toggleable__label fitted sk-toggleable__label-arrow fitted\">&nbsp;&nbsp;LinearRegression<a class=\"sk-estimator-doc-link fitted\" rel=\"noreferrer\" target=\"_blank\" href=\"https://scikit-learn.org/1.5/modules/generated/sklearn.linear_model.LinearRegression.html\">?<span>Documentation for LinearRegression</span></a><span class=\"sk-estimator-doc-link fitted\">i<span>Fitted</span></span></label><div class=\"sk-toggleable__content fitted\"><pre>LinearRegression()</pre></div> </div></div></div></div>"
      ],
      "text/plain": [
       "LinearRegression()"
      ]
     },
     "execution_count": 161,
     "metadata": {},
     "output_type": "execute_result"
    }
   ],
   "source": [
    "#Step 4: Create Linear Regression Model and Fit the Model\n",
    "model = LinearRegression()\n",
    "model.fit(X,y)"
   ]
  },
  {
   "cell_type": "code",
   "execution_count": 167,
   "id": "a9c95acf-fb2d-415a-9c92-aeca36b49110",
   "metadata": {},
   "outputs": [
    {
     "name": "stdout",
     "output_type": "stream",
     "text": [
      "Predicted CO2 emissions : 107.20873279892223\n"
     ]
    }
   ],
   "source": [
    "#Step 5: Predict CO2 emissions for a car with Volume = 1300 and Weight = 2300\n",
    "\n",
    "# Create a DataFrame for the input with feature names\n",
    "input_data = pd.DataFrame({'Volume': [1300], 'Weight': [2300]})\n",
    "\n",
    "predicted_CO2 = model.predict(input_data)\n",
    "print(f'Predicted CO2 emissions : {predicted_CO2[0]}')"
   ]
  },
  {
   "cell_type": "code",
   "execution_count": 168,
   "id": "a999efa1-2109-4c1d-a70d-3eb69604be7b",
   "metadata": {},
   "outputs": [
    {
     "name": "stdout",
     "output_type": "stream",
     "text": [
      "Coefficients : Volume = 0.007805257527747128,Weight = 0.007550947270300682\n",
      "intercept :79.69471929115939\n"
     ]
    }
   ],
   "source": [
    "#Step 6 : Print the coefficient values\n",
    "print(f'Coefficients : Volume = {model.coef_[0]},Weight = {model.coef_[1]}')\n",
    "\n",
    "#print the intercept as well , if needed\n",
    "print(f'intercept :{model.intercept_}')"
   ]
  },
  {
   "cell_type": "markdown",
   "id": "e5627b71-4bf0-4aed-983a-2f5426d284a3",
   "metadata": {},
   "source": [
    "**5.6. Using the insurance dataset (insurance.csv) with adequate preprocessing\n",
    "steps,\n",
    "    5.6.1. Visualize the correlation among variables using a heatmap.\n",
    "    5.6.2. Create a linear regression model.\n",
    "    5.6.3. Evaluate the model. (Find MSE and R_square.)\n",
    "    5.6.4. Predict the charges for a person with an age of 30, a BMI of 32.00, and\n",
    "    who is a smoker.**"
   ]
  },
  {
   "cell_type": "code",
   "execution_count": 2,
   "id": "eb4edbe8-057b-44ab-925a-cc5a2b073f49",
   "metadata": {},
   "outputs": [],
   "source": [
    "#Step 1:Import\n",
    "import pandas as pd\n",
    "import matplotlib.pyplot as plt\n",
    "import seaborn as sns\n",
    "from sklearn.model_selection import train_test_split\n",
    "from sklearn.linear_model import LinearRegression\n",
    "from sklearn.metrics import mean_squared_error,r2_score"
   ]
  },
  {
   "cell_type": "code",
   "execution_count": 4,
   "id": "4df9eb4d-e640-402b-a3fb-9dc2276c1e6c",
   "metadata": {},
   "outputs": [
    {
     "name": "stdout",
     "output_type": "stream",
     "text": [
      "      age     sex     bmi  children smoker     region      charges\n",
      "0      19  female  27.900         0    yes  southwest  16884.92400\n",
      "1      18    male  33.770         1     no  southeast   1725.55230\n",
      "2      28    male  33.000         3     no  southeast   4449.46200\n",
      "3      33    male  22.705         0     no  northwest  21984.47061\n",
      "4      32    male  28.880         0     no  northwest   3866.85520\n",
      "...   ...     ...     ...       ...    ...        ...          ...\n",
      "1333   50    male  30.970         3     no  northwest  10600.54830\n",
      "1334   18  female  31.920         0     no  northeast   2205.98080\n",
      "1335   18  female  36.850         0     no  southeast   1629.83350\n",
      "1336   21  female  25.800         0     no  southwest   2007.94500\n",
      "1337   61  female  29.070         0    yes  northwest  29141.36030\n",
      "\n",
      "[1338 rows x 7 columns]\n"
     ]
    }
   ],
   "source": [
    "#Step 2:Load the dataset\n",
    "data = pd.read_csv('insurance.csv')\n",
    "print(data)"
   ]
  },
  {
   "cell_type": "code",
   "execution_count": 5,
   "id": "254167bf-0fe0-4ac1-9a83-5db7069ee225",
   "metadata": {},
   "outputs": [
    {
     "name": "stdout",
     "output_type": "stream",
     "text": [
      "      age     bmi  children      charges  sex_female  sex_male  smoker_no  \\\n",
      "0      19  27.900         0  16884.92400        True     False      False   \n",
      "1      18  33.770         1   1725.55230       False      True       True   \n",
      "2      28  33.000         3   4449.46200       False      True       True   \n",
      "3      33  22.705         0  21984.47061       False      True       True   \n",
      "4      32  28.880         0   3866.85520       False      True       True   \n",
      "...   ...     ...       ...          ...         ...       ...        ...   \n",
      "1333   50  30.970         3  10600.54830       False      True       True   \n",
      "1334   18  31.920         0   2205.98080        True     False       True   \n",
      "1335   18  36.850         0   1629.83350        True     False       True   \n",
      "1336   21  25.800         0   2007.94500        True     False       True   \n",
      "1337   61  29.070         0  29141.36030        True     False      False   \n",
      "\n",
      "      smoker_yes  region_northeast  region_northwest  region_southeast  \\\n",
      "0           True             False             False             False   \n",
      "1          False             False             False              True   \n",
      "2          False             False             False              True   \n",
      "3          False             False              True             False   \n",
      "4          False             False              True             False   \n",
      "...          ...               ...               ...               ...   \n",
      "1333       False             False              True             False   \n",
      "1334       False              True             False             False   \n",
      "1335       False             False             False              True   \n",
      "1336       False             False             False             False   \n",
      "1337        True             False              True             False   \n",
      "\n",
      "      region_southwest  \n",
      "0                 True  \n",
      "1                False  \n",
      "2                False  \n",
      "3                False  \n",
      "4                False  \n",
      "...                ...  \n",
      "1333             False  \n",
      "1334             False  \n",
      "1335             False  \n",
      "1336              True  \n",
      "1337             False  \n",
      "\n",
      "[1338 rows x 12 columns]\n"
     ]
    },
    {
     "data": {
      "image/png": "[encoded data removed]",
      "text/plain": [
       "<Figure size 1000x800 with 2 Axes>"
      ]
     },
     "metadata": {},
     "output_type": "display_data"
    }
   ],
   "source": [
    "#Step 3 : Visualize the correlation among variables using a heatmap.\n",
    "\n",
    "#Convert Categorical columns to numerical\n",
    "df_encoded = pd.get_dummies(data)\n",
    "print(df_encoded)\n",
    "#Calculate the correlation matrix\n",
    "corr_matrix = df_encoded.corr()\n",
    "\n",
    "#Plot the Heatmap\n",
    "plt.figure(figsize=(10,8))\n",
    "sns.heatmap(corr_matrix,annot=True , cmap='coolwarm',fmt='.2f',linewidths=0.5)\n",
    "plt.title('Correlation HeatMap')\n",
    "plt.show()\n",
    "\n"
   ]
  },
  {
   "cell_type": "code",
   "execution_count": 179,
   "id": "5e446ee5-7208-4437-ab56-0e0729b555f4",
   "metadata": {},
   "outputs": [
    {
     "name": "stdout",
     "output_type": "stream",
     "text": [
      "\n",
      "Coefficients: [ 2.56975706e+02  3.37092552e+02  4.25278784e+02  9.29584582e+00\n",
      " -9.29584582e+00 -1.18255644e+04  1.18255644e+04  4.59585244e+02\n",
      "  8.89079180e+01 -1.98279052e+02 -3.50214110e+02]\n",
      "Intercept: -574.5357125102109\n"
     ]
    }
   ],
   "source": [
    "#Step 4:Create a linear regression model.\n",
    "\n",
    "#Define X and y\n",
    "X = df_encoded.drop(columns=['charges']) #Features\n",
    "y = df_encoded['charges'] #Target variable\n",
    "\n",
    "#Split the data into training and test sets\n",
    "X_train,X_test,y_train,y_test = train_test_split(X,y,test_size=0.2,random_state=42)\n",
    "\n",
    "#Create and Fit Linear regression model\n",
    "model = LinearRegression()\n",
    "model.fit(X_train,y_train)\n",
    "\n",
    "#Print Model Coefficient and Intercept\n",
    "print(f'\\nCoefficients: {model.coef_}')\n",
    "print(f'Intercept: {model.intercept_}')\n"
   ]
  },
  {
   "cell_type": "code",
   "execution_count": 181,
   "id": "063166f6-67e9-4e5a-95b6-98bba8389d98",
   "metadata": {},
   "outputs": [
    {
     "name": "stdout",
     "output_type": "stream",
     "text": [
      "MSE : 33596915.85136147\n",
      "R-squared : 0.5754611008553381\n"
     ]
    }
   ],
   "source": [
    "#Step 5: Evaluate the model. (Find MSE and R_square.)\n",
    "\n",
    "#Predict on the test set\n",
    "y_pred = model.predict(X_test)\n",
    "\n",
    "#Calculate MSE and R-squared value\n",
    "mse = mean_squared_error(y_test,y_pred)\n",
    "r_sqaured = r2_score(y_test,y_pred)\n",
    "\n",
    "print(f'MSE : {mse}')\n",
    "print(f'R-squared : {r_squared}')"
   ]
  },
  {
   "cell_type": "code",
   "execution_count": 183,
   "id": "4461e946-a347-4c37-b095-3cacea748c7f",
   "metadata": {},
   "outputs": [
    {
     "name": "stdout",
     "output_type": "stream",
     "text": [
      "Predicted Charges : $29,737.97\n"
     ]
    }
   ],
   "source": [
    "#Step 6 :Predict the charges for a person with an age of 30, a BMI of 32.00, and who is a smoker.\n",
    "\n",
    "person_data = pd.DataFrame({\n",
    "    'age':[30],\n",
    "    'bmi':[32],\n",
    "    'children':[0],\n",
    "    'sex_female':[0],\n",
    "    'sex_male':[1],\n",
    "    'smoker_no':[0],\n",
    "    'smoker_yes':[1],\n",
    "    'region_northeast':[0],\n",
    "    'region_northwest':[0],\n",
    "    'region_southeast':[0],\n",
    "    'region_southwest':[0]\n",
    "    \n",
    "    \n",
    "})\n",
    "\n",
    "predicted_charges = model.predict(person_data)\n",
    "print(f'Predicted Charges : ${predicted_charges[0]:,.2f}')"
   ]
  },
  {
   "cell_type": "code",
   "execution_count": null,
   "id": "6af239bf-1386-4709-a3f0-46c10f3fe084",
   "metadata": {},
   "outputs": [],
   "source": []
  }
 ],
 "metadata": {
  "kernelspec": {
   "display_name": "Python 3 (ipykernel)",
   "language": "python",
   "name": "python3"
  },
  "language_info": {
   "codemirror_mode": {
    "name": "ipython",
    "version": 3
   },
   "file_extension": ".py",
   "mimetype": "text/x-python",
   "name": "python",
   "nbconvert_exporter": "python",
   "pygments_lexer": "ipython3",
   "version": "3.12.3"
  }
 },
 "nbformat": 4,
 "nbformat_minor": 5
}
